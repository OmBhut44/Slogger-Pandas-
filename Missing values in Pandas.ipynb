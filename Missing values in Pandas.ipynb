{
 "cells": [
  {
   "cell_type": "code",
   "execution_count": 5,
   "id": "5e3d73d7-b258-4924-8384-f9d618a4c13e",
   "metadata": {},
   "outputs": [
    {
     "data": {
      "text/html": [
       "<div>\n",
       "<style scoped>\n",
       "    .dataframe tbody tr th:only-of-type {\n",
       "        vertical-align: middle;\n",
       "    }\n",
       "\n",
       "    .dataframe tbody tr th {\n",
       "        vertical-align: top;\n",
       "    }\n",
       "\n",
       "    .dataframe thead th {\n",
       "        text-align: right;\n",
       "    }\n",
       "</style>\n",
       "<table border=\"1\" class=\"dataframe\">\n",
       "  <thead>\n",
       "    <tr style=\"text-align: right;\">\n",
       "      <th></th>\n",
       "      <th>A</th>\n",
       "      <th>B</th>\n",
       "      <th>C</th>\n",
       "    </tr>\n",
       "  </thead>\n",
       "  <tbody>\n",
       "    <tr>\n",
       "      <th>0</th>\n",
       "      <td>1.0</td>\n",
       "      <td>NaN</td>\n",
       "      <td>1</td>\n",
       "    </tr>\n",
       "    <tr>\n",
       "      <th>1</th>\n",
       "      <td>2.0</td>\n",
       "      <td>2.0</td>\n",
       "      <td>2</td>\n",
       "    </tr>\n",
       "    <tr>\n",
       "      <th>2</th>\n",
       "      <td>NaN</td>\n",
       "      <td>3.0</td>\n",
       "      <td>3</td>\n",
       "    </tr>\n",
       "    <tr>\n",
       "      <th>3</th>\n",
       "      <td>4.0</td>\n",
       "      <td>4.0</td>\n",
       "      <td>4</td>\n",
       "    </tr>\n",
       "  </tbody>\n",
       "</table>\n",
       "</div>"
      ],
      "text/plain": [
       "     A    B  C\n",
       "0  1.0  NaN  1\n",
       "1  2.0  2.0  2\n",
       "2  NaN  3.0  3\n",
       "3  4.0  4.0  4"
      ]
     },
     "execution_count": 5,
     "metadata": {},
     "output_type": "execute_result"
    }
   ],
   "source": [
    "import pandas as pd\n",
    "\n",
    "df = pd.DataFrame({\n",
    "    'A' : [1, 2, None, 4],\n",
    "    'B': [None, 2, 3, 4],\n",
    "    'C' : [1, 2, 3, 4]\n",
    "})\n",
    "df\n",
    "# check for missing values: \n",
    "# print(df.isnull())"
   ]
  },
  {
   "cell_type": "markdown",
   "id": "ef457e1a-9568-4abc-a909-bc146ff0efe7",
   "metadata": {},
   "source": [
    "# checking for missing values in entire DataFrame: "
   ]
  },
  {
   "cell_type": "code",
   "execution_count": 2,
   "id": "8edaadd5-c2a3-44ff-9c15-918e46d67ed6",
   "metadata": {},
   "outputs": [
    {
     "name": "stdout",
     "output_type": "stream",
     "text": [
      "A    1\n",
      "B    1\n",
      "C    0\n",
      "dtype: int64\n"
     ]
    }
   ],
   "source": [
    "print(df.isnull().sum())"
   ]
  },
  {
   "cell_type": "markdown",
   "id": "1c6722e0-6599-4da4-8fe0-d06b8249a2b5",
   "metadata": {},
   "source": [
    "# Removing Missing Data: \n",
    "* Drop row with missing values: "
   ]
  },
  {
   "cell_type": "code",
   "execution_count": 3,
   "id": "166510d2-2870-4276-abb2-698ce1ea5836",
   "metadata": {},
   "outputs": [
    {
     "data": {
      "text/html": [
       "<div>\n",
       "<style scoped>\n",
       "    .dataframe tbody tr th:only-of-type {\n",
       "        vertical-align: middle;\n",
       "    }\n",
       "\n",
       "    .dataframe tbody tr th {\n",
       "        vertical-align: top;\n",
       "    }\n",
       "\n",
       "    .dataframe thead th {\n",
       "        text-align: right;\n",
       "    }\n",
       "</style>\n",
       "<table border=\"1\" class=\"dataframe\">\n",
       "  <thead>\n",
       "    <tr style=\"text-align: right;\">\n",
       "      <th></th>\n",
       "      <th>A</th>\n",
       "      <th>B</th>\n",
       "      <th>C</th>\n",
       "    </tr>\n",
       "  </thead>\n",
       "  <tbody>\n",
       "    <tr>\n",
       "      <th>1</th>\n",
       "      <td>2.0</td>\n",
       "      <td>2.0</td>\n",
       "      <td>2</td>\n",
       "    </tr>\n",
       "    <tr>\n",
       "      <th>3</th>\n",
       "      <td>4.0</td>\n",
       "      <td>4.0</td>\n",
       "      <td>4</td>\n",
       "    </tr>\n",
       "  </tbody>\n",
       "</table>\n",
       "</div>"
      ],
      "text/plain": [
       "     A    B  C\n",
       "1  2.0  2.0  2\n",
       "3  4.0  4.0  4"
      ]
     },
     "execution_count": 3,
     "metadata": {},
     "output_type": "execute_result"
    }
   ],
   "source": [
    "# This will drop all the missing values: \n",
    "df_drop_rows = df.dropna()\n",
    "df_drop_rows"
   ]
  },
  {
   "cell_type": "markdown",
   "id": "f3a5547b-7d44-4845-afd9-71466071815b",
   "metadata": {},
   "source": [
    "# Drop columns with missing values: "
   ]
  },
  {
   "cell_type": "code",
   "execution_count": 7,
   "id": "274998f0-157b-4688-8711-5e40a4fe1be7",
   "metadata": {},
   "outputs": [
    {
     "data": {
      "text/html": [
       "<div>\n",
       "<style scoped>\n",
       "    .dataframe tbody tr th:only-of-type {\n",
       "        vertical-align: middle;\n",
       "    }\n",
       "\n",
       "    .dataframe tbody tr th {\n",
       "        vertical-align: top;\n",
       "    }\n",
       "\n",
       "    .dataframe thead th {\n",
       "        text-align: right;\n",
       "    }\n",
       "</style>\n",
       "<table border=\"1\" class=\"dataframe\">\n",
       "  <thead>\n",
       "    <tr style=\"text-align: right;\">\n",
       "      <th></th>\n",
       "      <th>A</th>\n",
       "      <th>B</th>\n",
       "      <th>C</th>\n",
       "    </tr>\n",
       "  </thead>\n",
       "  <tbody>\n",
       "    <tr>\n",
       "      <th>1</th>\n",
       "      <td>2.0</td>\n",
       "      <td>2.0</td>\n",
       "      <td>2</td>\n",
       "    </tr>\n",
       "    <tr>\n",
       "      <th>3</th>\n",
       "      <td>4.0</td>\n",
       "      <td>4.0</td>\n",
       "      <td>4</td>\n",
       "    </tr>\n",
       "  </tbody>\n",
       "</table>\n",
       "</div>"
      ],
      "text/plain": [
       "     A    B  C\n",
       "1  2.0  2.0  2\n",
       "3  4.0  4.0  4"
      ]
     },
     "execution_count": 7,
     "metadata": {},
     "output_type": "execute_result"
    }
   ],
   "source": [
    "df_drop_columns = df.dropna(axis=0)\n",
    "df_drop_columns"
   ]
  },
  {
   "cell_type": "markdown",
   "id": "dd7103ae-6f1a-4c05-83ec-5c382cd75786",
   "metadata": {},
   "source": [
    "# drop rows where all values are missing"
   ]
  },
  {
   "cell_type": "code",
   "execution_count": 20,
   "id": "45466ede-d61b-46a1-b54e-ea89c2acfef5",
   "metadata": {},
   "outputs": [
    {
     "name": "stdout",
     "output_type": "stream",
     "text": [
      "     A    B    C    D\n",
      "0  NaN  NaN  NaN  NaN\n",
      "1  2.0  2.0  2.0  2.0\n",
      "2  NaN  3.0  NaN  3.0\n",
      "3  4.0  4.0  4.0  4.0 \n",
      "\n",
      "     A    B    C    D\n",
      "1  2.0  2.0  2.0  2.0\n",
      "2  NaN  3.0  NaN  3.0\n",
      "3  4.0  4.0  4.0  4.0\n"
     ]
    }
   ],
   "source": [
    "import pandas as pd\n",
    "\n",
    "df1 = pd.DataFrame({\n",
    "    'A' : [None, 2, None, 4],\n",
    "    'B': [None, 2, 3, 4],\n",
    "    'C' : [None, 2, None, 4],\n",
    "    'D' : [None, 2, 3, 4]\n",
    "})\n",
    "# check for missing values: \n",
    "print(df1,\"\\n\")\n",
    "\n",
    "df_drop_all_missing = df1.dropna(how = \"all\")\n",
    "print(df_drop_all_missing)\n",
    "\n",
    "# how = \"all\"\n",
    "# means jaha pe bee sare ke sare values null hoge i mean puri line ke value null hogi waha pe ye kam aayega "
   ]
  },
  {
   "cell_type": "code",
   "execution_count": 25,
   "id": "043a3c36-ea51-4859-8431-8620bdb4cc91",
   "metadata": {},
   "outputs": [
    {
     "name": "stdout",
     "output_type": "stream",
     "text": [
      "     A    B    C    D\n",
      "0  NaN  NaN  NaN  NaN\n",
      "1  2.0  2.0  2.0  2.0\n",
      "2  NaN  3.0  NaN  3.0\n",
      "3  4.0  4.0  4.0  4.0 \n",
      "\n",
      "     A    B    C    D\n",
      "1  2.0  2.0  2.0  2.0\n",
      "2  NaN  3.0  NaN  3.0\n",
      "3  4.0  4.0  4.0  4.0\n"
     ]
    }
   ],
   "source": [
    "# # Let's delete the data alogn the row nd column \n",
    "\n",
    "# # let's first start with row\n",
    "\n",
    "# # code for row: \n",
    "# import pandas as pd\n",
    "\n",
    "# df1 = pd.DataFrame({\n",
    "#     'A' : [None, 2, None, 4],\n",
    "#     'B': [None, 2, 3, 4],\n",
    "#     'C' : [None, 2, None, 4],\n",
    "#     'D' : [None, 2, 3, 4]\n",
    "# })\n",
    "# # check for missing values: \n",
    "# print(df1,\"\\n\")\n",
    "\n",
    "# df_drop_all_missing = df1.dropna(how = \"all\", axis=0) # if we do not specify the axis value then default it is row, here axis=0 represents row\n",
    "# print(df_drop_all_missing)\n",
    "\n",
    "\n",
    "\n",
    "# code for column: \n",
    "import pandas as pd\n",
    "df1 = pd.DataFrame({\n",
    "    'A' : [None, 2, None, 4],\n",
    "    'B': [None, 2, 3, 4],\n",
    "    'C' : [None, 2, None, 4],\n",
    "    'D' : [None, 2, 3, 4]\n",
    "})\n",
    "print(df1,\"\\n\")\n",
    "df_drop_all_missing = df1.dropna(how = \"all\", axis=0) # here axis-1 represents column \n",
    "print(df_drop_all_missing)"
   ]
  },
  {
   "cell_type": "markdown",
   "id": "a9de3813-c58d-4972-ac78-9dfe6f4da2c1",
   "metadata": {},
   "source": [
    "# Drop rows with missing values in specific columns: "
   ]
  },
  {
   "cell_type": "code",
   "execution_count": 12,
   "id": "69b19189-1dc0-4841-a87c-c7afc5245652",
   "metadata": {},
   "outputs": [
    {
     "name": "stdout",
     "output_type": "stream",
     "text": [
      "     A    B  C\n",
      "1  2.0  2.0  2\n",
      "2  NaN  3.0  3\n",
      "3  4.0  4.0  4\n",
      "\n",
      "The df is here only for the comparision\n",
      "     A    B  C\n",
      "0  1.0  NaN  1\n",
      "1  2.0  2.0  2\n",
      "2  NaN  3.0  3\n",
      "3  4.0  4.0  4\n"
     ]
    }
   ],
   "source": [
    "import pandas as pd\n",
    "\n",
    "df = pd.DataFrame({\n",
    "    'A' : [1, 2, None, 4],\n",
    "    'B': [None, 2, 3, 4],\n",
    "    'C' : [1, 2, 3, 4]\n",
    "})\n",
    "# df_drop_specific_vaue = df.dropna(subset = ['A'])\n",
    "df_drop_specific = df.dropna(subset = ['B'])\n",
    "print(df_drop_specific)\n",
    "print()\n",
    "print(\"The df is here only for the comparision\")\n",
    "print(df)"
   ]
  },
  {
   "cell_type": "markdown",
   "id": "12698229-c792-40cd-b68f-5b2f501e16c2",
   "metadata": {},
   "source": [
    "# filling missing values with a specific value: "
   ]
  },
  {
   "cell_type": "code",
   "execution_count": 10,
   "id": "1e31b0da-d49c-4914-bbec-0f1344d12786",
   "metadata": {},
   "outputs": [
    {
     "data": {
      "text/html": [
       "<div>\n",
       "<style scoped>\n",
       "    .dataframe tbody tr th:only-of-type {\n",
       "        vertical-align: middle;\n",
       "    }\n",
       "\n",
       "    .dataframe tbody tr th {\n",
       "        vertical-align: top;\n",
       "    }\n",
       "\n",
       "    .dataframe thead th {\n",
       "        text-align: right;\n",
       "    }\n",
       "</style>\n",
       "<table border=\"1\" class=\"dataframe\">\n",
       "  <thead>\n",
       "    <tr style=\"text-align: right;\">\n",
       "      <th></th>\n",
       "      <th>A</th>\n",
       "      <th>B</th>\n",
       "      <th>C</th>\n",
       "    </tr>\n",
       "  </thead>\n",
       "  <tbody>\n",
       "    <tr>\n",
       "      <th>0</th>\n",
       "      <td>1.0</td>\n",
       "      <td>Beast</td>\n",
       "      <td>1</td>\n",
       "    </tr>\n",
       "    <tr>\n",
       "      <th>1</th>\n",
       "      <td>2.0</td>\n",
       "      <td>2.0</td>\n",
       "      <td>2</td>\n",
       "    </tr>\n",
       "    <tr>\n",
       "      <th>2</th>\n",
       "      <td>Beast</td>\n",
       "      <td>3.0</td>\n",
       "      <td>3</td>\n",
       "    </tr>\n",
       "    <tr>\n",
       "      <th>3</th>\n",
       "      <td>4.0</td>\n",
       "      <td>4.0</td>\n",
       "      <td>4</td>\n",
       "    </tr>\n",
       "  </tbody>\n",
       "</table>\n",
       "</div>"
      ],
      "text/plain": [
       "       A      B  C\n",
       "0    1.0  Beast  1\n",
       "1    2.0    2.0  2\n",
       "2  Beast    3.0  3\n",
       "3    4.0    4.0  4"
      ]
     },
     "execution_count": 10,
     "metadata": {},
     "output_type": "execute_result"
    }
   ],
   "source": [
    "df_filled_value = df.fillna(\"Beast\")\n",
    "df_filled_value"
   ]
  },
  {
   "cell_type": "markdown",
   "id": "2dd0df2c-1d76-428c-91c0-1771b550502d",
   "metadata": {},
   "source": [
    "# Filling missing values with the mean of the column:"
   ]
  },
  {
   "cell_type": "code",
   "execution_count": 25,
   "id": "49657494-4c27-4baf-84bd-b5150c77e80a",
   "metadata": {},
   "outputs": [
    {
     "name": "stdout",
     "output_type": "stream",
     "text": [
      "A    2.333333\n",
      "B    3.000000\n",
      "C    2.500000\n",
      "dtype: float64\n"
     ]
    },
    {
     "name": "stderr",
     "output_type": "stream",
     "text": [
      "C:\\Users\\ACER\\AppData\\Local\\Temp\\ipykernel_10200\\1000647759.py:1: FutureWarning: A value is trying to be set on a copy of a DataFrame or Series through chained assignment using an inplace method.\n",
      "The behavior will change in pandas 3.0. This inplace method will never work because the intermediate object on which we are setting values always behaves as a copy.\n",
      "\n",
      "For example, when doing 'df[col].method(value, inplace=True)', try using 'df.method({col: value}, inplace=True)' or df[col] = df[col].method(value) instead, to perform the operation inplace on the original object.\n",
      "\n",
      "\n",
      "  df['A'].fillna(df['A'].mean(), inplace = True)\n"
     ]
    },
    {
     "data": {
      "text/html": [
       "<div>\n",
       "<style scoped>\n",
       "    .dataframe tbody tr th:only-of-type {\n",
       "        vertical-align: middle;\n",
       "    }\n",
       "\n",
       "    .dataframe tbody tr th {\n",
       "        vertical-align: top;\n",
       "    }\n",
       "\n",
       "    .dataframe thead th {\n",
       "        text-align: right;\n",
       "    }\n",
       "</style>\n",
       "<table border=\"1\" class=\"dataframe\">\n",
       "  <thead>\n",
       "    <tr style=\"text-align: right;\">\n",
       "      <th></th>\n",
       "      <th>A</th>\n",
       "      <th>B</th>\n",
       "      <th>C</th>\n",
       "    </tr>\n",
       "  </thead>\n",
       "  <tbody>\n",
       "    <tr>\n",
       "      <th>0</th>\n",
       "      <td>1.000000</td>\n",
       "      <td>NaN</td>\n",
       "      <td>1</td>\n",
       "    </tr>\n",
       "    <tr>\n",
       "      <th>1</th>\n",
       "      <td>2.000000</td>\n",
       "      <td>2.0</td>\n",
       "      <td>2</td>\n",
       "    </tr>\n",
       "    <tr>\n",
       "      <th>2</th>\n",
       "      <td>2.333333</td>\n",
       "      <td>3.0</td>\n",
       "      <td>3</td>\n",
       "    </tr>\n",
       "    <tr>\n",
       "      <th>3</th>\n",
       "      <td>4.000000</td>\n",
       "      <td>4.0</td>\n",
       "      <td>4</td>\n",
       "    </tr>\n",
       "  </tbody>\n",
       "</table>\n",
       "</div>"
      ],
      "text/plain": [
       "          A    B  C\n",
       "0  1.000000  NaN  1\n",
       "1  2.000000  2.0  2\n",
       "2  2.333333  3.0  3\n",
       "3  4.000000  4.0  4"
      ]
     },
     "execution_count": 25,
     "metadata": {},
     "output_type": "execute_result"
    }
   ],
   "source": [
    "df['A'].fillna(df['A'].mean(), inplace = True)\n",
    "print(df.mean())\n",
    "df"
   ]
  },
  {
   "cell_type": "markdown",
   "id": "b47ca2d3-0205-4de6-93e3-1db6e875f29a",
   "metadata": {},
   "source": [
    "# Forward fill (propogate the last valid observation forward to the next): "
   ]
  },
  {
   "cell_type": "code",
   "execution_count": 35,
   "id": "002b354e-562f-4442-be3c-44ed7ced318a",
   "metadata": {},
   "outputs": [
    {
     "name": "stdout",
     "output_type": "stream",
     "text": [
      "       A      B      C\n",
      "0  False   True  False\n",
      "1  False  False  False\n",
      "2   True  False  False\n",
      "3  False  False  False\n"
     ]
    },
    {
     "name": "stderr",
     "output_type": "stream",
     "text": [
      "C:\\Users\\ACER\\AppData\\Local\\Temp\\ipykernel_10200\\3520501601.py:11: FutureWarning: DataFrame.fillna with 'method' is deprecated and will raise in a future version. Use obj.ffill() or obj.bfill() instead.\n",
      "  df_fillna = df.fillna(method=\"ffill\")\n"
     ]
    },
    {
     "data": {
      "text/html": [
       "<div>\n",
       "<style scoped>\n",
       "    .dataframe tbody tr th:only-of-type {\n",
       "        vertical-align: middle;\n",
       "    }\n",
       "\n",
       "    .dataframe tbody tr th {\n",
       "        vertical-align: top;\n",
       "    }\n",
       "\n",
       "    .dataframe thead th {\n",
       "        text-align: right;\n",
       "    }\n",
       "</style>\n",
       "<table border=\"1\" class=\"dataframe\">\n",
       "  <thead>\n",
       "    <tr style=\"text-align: right;\">\n",
       "      <th></th>\n",
       "      <th>A</th>\n",
       "      <th>B</th>\n",
       "      <th>C</th>\n",
       "    </tr>\n",
       "  </thead>\n",
       "  <tbody>\n",
       "    <tr>\n",
       "      <th>0</th>\n",
       "      <td>1.0</td>\n",
       "      <td>NaN</td>\n",
       "      <td>1</td>\n",
       "    </tr>\n",
       "    <tr>\n",
       "      <th>1</th>\n",
       "      <td>2.0</td>\n",
       "      <td>2.0</td>\n",
       "      <td>2</td>\n",
       "    </tr>\n",
       "    <tr>\n",
       "      <th>2</th>\n",
       "      <td>2.0</td>\n",
       "      <td>3.0</td>\n",
       "      <td>3</td>\n",
       "    </tr>\n",
       "    <tr>\n",
       "      <th>3</th>\n",
       "      <td>4.0</td>\n",
       "      <td>4.0</td>\n",
       "      <td>4</td>\n",
       "    </tr>\n",
       "  </tbody>\n",
       "</table>\n",
       "</div>"
      ],
      "text/plain": [
       "     A    B  C\n",
       "0  1.0  NaN  1\n",
       "1  2.0  2.0  2\n",
       "2  2.0  3.0  3\n",
       "3  4.0  4.0  4"
      ]
     },
     "execution_count": 35,
     "metadata": {},
     "output_type": "execute_result"
    }
   ],
   "source": [
    "import pandas as pd\n",
    "\n",
    "df = pd.DataFrame({\n",
    "    'A' : [1, 2, None, 4],\n",
    "    'B': [None, 2, 3, 4],\n",
    "    'C' : [1, 2, 3, 4]\n",
    "})\n",
    "# check for missing values: \n",
    "print(df.isnull())\n",
    "\n",
    "df_fillna = df.fillna(method=\"ffill\")\n",
    "df_fillna"
   ]
  },
  {
   "cell_type": "markdown",
   "id": "56723c8b-335c-4597-a7af-876a9372e8ec",
   "metadata": {},
   "source": [
    "# Backward fill:"
   ]
  },
  {
   "cell_type": "code",
   "execution_count": 36,
   "id": "ec8aa35f-43a8-4264-8c9e-1a766dc77e7a",
   "metadata": {},
   "outputs": [
    {
     "name": "stderr",
     "output_type": "stream",
     "text": [
      "C:\\Users\\ACER\\AppData\\Local\\Temp\\ipykernel_10200\\2035525017.py:1: FutureWarning: DataFrame.fillna with 'method' is deprecated and will raise in a future version. Use obj.ffill() or obj.bfill() instead.\n",
      "  df_fillna = df.fillna(method=\"Bfill\")\n"
     ]
    },
    {
     "data": {
      "text/html": [
       "<div>\n",
       "<style scoped>\n",
       "    .dataframe tbody tr th:only-of-type {\n",
       "        vertical-align: middle;\n",
       "    }\n",
       "\n",
       "    .dataframe tbody tr th {\n",
       "        vertical-align: top;\n",
       "    }\n",
       "\n",
       "    .dataframe thead th {\n",
       "        text-align: right;\n",
       "    }\n",
       "</style>\n",
       "<table border=\"1\" class=\"dataframe\">\n",
       "  <thead>\n",
       "    <tr style=\"text-align: right;\">\n",
       "      <th></th>\n",
       "      <th>A</th>\n",
       "      <th>B</th>\n",
       "      <th>C</th>\n",
       "    </tr>\n",
       "  </thead>\n",
       "  <tbody>\n",
       "    <tr>\n",
       "      <th>0</th>\n",
       "      <td>1.0</td>\n",
       "      <td>2.0</td>\n",
       "      <td>1</td>\n",
       "    </tr>\n",
       "    <tr>\n",
       "      <th>1</th>\n",
       "      <td>2.0</td>\n",
       "      <td>2.0</td>\n",
       "      <td>2</td>\n",
       "    </tr>\n",
       "    <tr>\n",
       "      <th>2</th>\n",
       "      <td>4.0</td>\n",
       "      <td>3.0</td>\n",
       "      <td>3</td>\n",
       "    </tr>\n",
       "    <tr>\n",
       "      <th>3</th>\n",
       "      <td>4.0</td>\n",
       "      <td>4.0</td>\n",
       "      <td>4</td>\n",
       "    </tr>\n",
       "  </tbody>\n",
       "</table>\n",
       "</div>"
      ],
      "text/plain": [
       "     A    B  C\n",
       "0  1.0  2.0  1\n",
       "1  2.0  2.0  2\n",
       "2  4.0  3.0  3\n",
       "3  4.0  4.0  4"
      ]
     },
     "execution_count": 36,
     "metadata": {},
     "output_type": "execute_result"
    }
   ],
   "source": [
    "df_fillna = df.fillna(method=\"Bfill\")\n",
    "df_fillna"
   ]
  },
  {
   "cell_type": "markdown",
   "id": "a34f38a0-30e8-4c68-b96a-45461d4b0066",
   "metadata": {},
   "source": [
    "# Interpolating Missing Data:"
   ]
  },
  {
   "cell_type": "code",
   "execution_count": 41,
   "id": "22c84990-dedd-4883-ab4d-9781e1c26876",
   "metadata": {},
   "outputs": [
    {
     "name": "stdout",
     "output_type": "stream",
     "text": [
      "The original data: \n",
      "\n"
     ]
    },
    {
     "data": {
      "text/html": [
       "<div>\n",
       "<style scoped>\n",
       "    .dataframe tbody tr th:only-of-type {\n",
       "        vertical-align: middle;\n",
       "    }\n",
       "\n",
       "    .dataframe tbody tr th {\n",
       "        vertical-align: top;\n",
       "    }\n",
       "\n",
       "    .dataframe thead th {\n",
       "        text-align: right;\n",
       "    }\n",
       "</style>\n",
       "<table border=\"1\" class=\"dataframe\">\n",
       "  <thead>\n",
       "    <tr style=\"text-align: right;\">\n",
       "      <th></th>\n",
       "      <th>A</th>\n",
       "      <th>B</th>\n",
       "      <th>C</th>\n",
       "    </tr>\n",
       "  </thead>\n",
       "  <tbody>\n",
       "    <tr>\n",
       "      <th>0</th>\n",
       "      <td>1.0</td>\n",
       "      <td>NaN</td>\n",
       "      <td>1</td>\n",
       "    </tr>\n",
       "    <tr>\n",
       "      <th>1</th>\n",
       "      <td>2.0</td>\n",
       "      <td>2.0</td>\n",
       "      <td>2</td>\n",
       "    </tr>\n",
       "    <tr>\n",
       "      <th>2</th>\n",
       "      <td>NaN</td>\n",
       "      <td>3.0</td>\n",
       "      <td>3</td>\n",
       "    </tr>\n",
       "    <tr>\n",
       "      <th>3</th>\n",
       "      <td>4.0</td>\n",
       "      <td>4.0</td>\n",
       "      <td>4</td>\n",
       "    </tr>\n",
       "  </tbody>\n",
       "</table>\n",
       "</div>"
      ],
      "text/plain": [
       "     A    B  C\n",
       "0  1.0  NaN  1\n",
       "1  2.0  2.0  2\n",
       "2  NaN  3.0  3\n",
       "3  4.0  4.0  4"
      ]
     },
     "execution_count": 41,
     "metadata": {},
     "output_type": "execute_result"
    }
   ],
   "source": [
    "import pandas as pd\n",
    "\n",
    "df = pd.DataFrame({\n",
    "    'A' : [1, 2, None, 4],\n",
    "    'B': [None, 2, 3, 4],\n",
    "    'C' : [1, 2, 3, 4]\n",
    "})\n",
    "print(\"The original data: \\n\")\n",
    "df"
   ]
  },
  {
   "cell_type": "code",
   "execution_count": 43,
   "id": "18bea695-00a6-491c-b58b-ffb6b5ca2fdc",
   "metadata": {},
   "outputs": [
    {
     "data": {
      "text/html": [
       "<div>\n",
       "<style scoped>\n",
       "    .dataframe tbody tr th:only-of-type {\n",
       "        vertical-align: middle;\n",
       "    }\n",
       "\n",
       "    .dataframe tbody tr th {\n",
       "        vertical-align: top;\n",
       "    }\n",
       "\n",
       "    .dataframe thead th {\n",
       "        text-align: right;\n",
       "    }\n",
       "</style>\n",
       "<table border=\"1\" class=\"dataframe\">\n",
       "  <thead>\n",
       "    <tr style=\"text-align: right;\">\n",
       "      <th></th>\n",
       "      <th>A</th>\n",
       "      <th>B</th>\n",
       "      <th>C</th>\n",
       "    </tr>\n",
       "  </thead>\n",
       "  <tbody>\n",
       "    <tr>\n",
       "      <th>0</th>\n",
       "      <td>1.0</td>\n",
       "      <td>NaN</td>\n",
       "      <td>1</td>\n",
       "    </tr>\n",
       "    <tr>\n",
       "      <th>1</th>\n",
       "      <td>2.0</td>\n",
       "      <td>2.0</td>\n",
       "      <td>2</td>\n",
       "    </tr>\n",
       "    <tr>\n",
       "      <th>2</th>\n",
       "      <td>3.0</td>\n",
       "      <td>3.0</td>\n",
       "      <td>3</td>\n",
       "    </tr>\n",
       "    <tr>\n",
       "      <th>3</th>\n",
       "      <td>4.0</td>\n",
       "      <td>4.0</td>\n",
       "      <td>4</td>\n",
       "    </tr>\n",
       "  </tbody>\n",
       "</table>\n",
       "</div>"
      ],
      "text/plain": [
       "     A    B  C\n",
       "0  1.0  NaN  1\n",
       "1  2.0  2.0  2\n",
       "2  3.0  3.0  3\n",
       "3  4.0  4.0  4"
      ]
     },
     "execution_count": 43,
     "metadata": {},
     "output_type": "execute_result"
    }
   ],
   "source": [
    "df_interpolation = df.interpolate()\n",
    "df_interpolation"
   ]
  },
  {
   "cell_type": "markdown",
   "id": "f35a73df-8689-4aaf-ae94-bbfbbebc3316",
   "metadata": {},
   "source": [
    "# Example-2: [Take-2]"
   ]
  },
  {
   "cell_type": "code",
   "execution_count": 1,
   "id": "bcd0002a-b50a-4ac0-b9ed-ba91c16915f9",
   "metadata": {},
   "outputs": [
    {
     "name": "stdout",
     "output_type": "stream",
     "text": [
      "The original data: \n",
      "\n"
     ]
    },
    {
     "data": {
      "text/html": [
       "<div>\n",
       "<style scoped>\n",
       "    .dataframe tbody tr th:only-of-type {\n",
       "        vertical-align: middle;\n",
       "    }\n",
       "\n",
       "    .dataframe tbody tr th {\n",
       "        vertical-align: top;\n",
       "    }\n",
       "\n",
       "    .dataframe thead th {\n",
       "        text-align: right;\n",
       "    }\n",
       "</style>\n",
       "<table border=\"1\" class=\"dataframe\">\n",
       "  <thead>\n",
       "    <tr style=\"text-align: right;\">\n",
       "      <th></th>\n",
       "      <th>A</th>\n",
       "      <th>B</th>\n",
       "      <th>C</th>\n",
       "    </tr>\n",
       "  </thead>\n",
       "  <tbody>\n",
       "    <tr>\n",
       "      <th>0</th>\n",
       "      <td>1.0</td>\n",
       "      <td>NaN</td>\n",
       "      <td>1</td>\n",
       "    </tr>\n",
       "    <tr>\n",
       "      <th>1</th>\n",
       "      <td>2.0</td>\n",
       "      <td>2.0</td>\n",
       "      <td>2</td>\n",
       "    </tr>\n",
       "    <tr>\n",
       "      <th>2</th>\n",
       "      <td>5.0</td>\n",
       "      <td>3.0</td>\n",
       "      <td>3</td>\n",
       "    </tr>\n",
       "    <tr>\n",
       "      <th>3</th>\n",
       "      <td>8.0</td>\n",
       "      <td>4.0</td>\n",
       "      <td>4</td>\n",
       "    </tr>\n",
       "  </tbody>\n",
       "</table>\n",
       "</div>"
      ],
      "text/plain": [
       "     A    B  C\n",
       "0  1.0  NaN  1\n",
       "1  2.0  2.0  2\n",
       "2  5.0  3.0  3\n",
       "3  8.0  4.0  4"
      ]
     },
     "execution_count": 1,
     "metadata": {},
     "output_type": "execute_result"
    }
   ],
   "source": [
    "import pandas as pd\n",
    "\n",
    "df = pd.DataFrame({\n",
    "    'A' : [1, 2, None, 8],\n",
    "    'B': [None, 2, 3, 4],\n",
    "    'C' : [1, 2, 3, 4]\n",
    "})\n",
    "print(\"The original data: \\n\")\n",
    "df\n",
    "\n",
    "df_interpolation = df.interpolate()\n",
    "df_interpolation"
   ]
  },
  {
   "cell_type": "markdown",
   "id": "4c2ebaa3-f7b3-4263-997e-fddb801b16d2",
   "metadata": {},
   "source": [
    "# Replacing Missing Data: "
   ]
  },
  {
   "cell_type": "code",
   "execution_count": 2,
   "id": "dc0804a3-8795-41ba-86f6-b9827c81a89c",
   "metadata": {},
   "outputs": [
    {
     "ename": "AttributeError",
     "evalue": "module 'pandas' has no attribute 'NaN'",
     "output_type": "error",
     "traceback": [
      "\u001b[1;31m---------------------------------------------------------------------------\u001b[0m",
      "\u001b[1;31mAttributeError\u001b[0m                            Traceback (most recent call last)",
      "Cell \u001b[1;32mIn[2], line 2\u001b[0m\n\u001b[0;32m      1\u001b[0m \u001b[38;5;66;03m# df_replace = df.replace(to_replace = pd.NA, value = \"Beast\")\u001b[39;00m\n\u001b[1;32m----> 2\u001b[0m df_replace \u001b[38;5;241m=\u001b[39m df\u001b[38;5;241m.\u001b[39mreplace(to_replace\u001b[38;5;241m=\u001b[39m\u001b[43mpd\u001b[49m\u001b[38;5;241;43m.\u001b[39;49m\u001b[43mNaN\u001b[49m, value\u001b[38;5;241m=\u001b[39m\u001b[38;5;241m0\u001b[39m)\n\u001b[0;32m      3\u001b[0m df_replace\n",
      "\u001b[1;31mAttributeError\u001b[0m: module 'pandas' has no attribute 'NaN'"
     ]
    }
   ],
   "source": [
    "# df_replace = df.replace(to_replace = pd.NA, value = \"Beast\")\n",
    "df_replace = df.replace(to_replace=pd.NaN, value=0)\n",
    "df_replace"
   ]
  },
  {
   "cell_type": "markdown",
   "id": "2da564f2-683f-4710-9bdf-49d98c4f3cdb",
   "metadata": {},
   "source": [
    "# using codition to handel Missing Data: "
   ]
  },
  {
   "cell_type": "code",
   "execution_count": 13,
   "id": "bb223c1c-b5e2-4823-a5b9-7d0f98374e1c",
   "metadata": {},
   "outputs": [
    {
     "data": {
      "text/html": [
       "<div>\n",
       "<style scoped>\n",
       "    .dataframe tbody tr th:only-of-type {\n",
       "        vertical-align: middle;\n",
       "    }\n",
       "\n",
       "    .dataframe tbody tr th {\n",
       "        vertical-align: top;\n",
       "    }\n",
       "\n",
       "    .dataframe thead th {\n",
       "        text-align: right;\n",
       "    }\n",
       "</style>\n",
       "<table border=\"1\" class=\"dataframe\">\n",
       "  <thead>\n",
       "    <tr style=\"text-align: right;\">\n",
       "      <th></th>\n",
       "      <th>A</th>\n",
       "      <th>B</th>\n",
       "      <th>C</th>\n",
       "    </tr>\n",
       "  </thead>\n",
       "  <tbody>\n",
       "    <tr>\n",
       "      <th>0</th>\n",
       "      <td>1.0</td>\n",
       "      <td>NaN</td>\n",
       "      <td>1</td>\n",
       "    </tr>\n",
       "    <tr>\n",
       "      <th>1</th>\n",
       "      <td>2.0</td>\n",
       "      <td>2.0</td>\n",
       "      <td>2</td>\n",
       "    </tr>\n",
       "    <tr>\n",
       "      <th>2</th>\n",
       "      <td>0.0</td>\n",
       "      <td>3.0</td>\n",
       "      <td>3</td>\n",
       "    </tr>\n",
       "    <tr>\n",
       "      <th>3</th>\n",
       "      <td>4.0</td>\n",
       "      <td>4.0</td>\n",
       "      <td>4</td>\n",
       "    </tr>\n",
       "  </tbody>\n",
       "</table>\n",
       "</div>"
      ],
      "text/plain": [
       "     A    B  C\n",
       "0  1.0  NaN  1\n",
       "1  2.0  2.0  2\n",
       "2  0.0  3.0  3\n",
       "3  4.0  4.0  4"
      ]
     },
     "execution_count": 13,
     "metadata": {},
     "output_type": "execute_result"
    }
   ],
   "source": [
    "df['A'] = df['A'].apply(lambda x: 0 if pd.isna(x) else x)\n",
    "df"
   ]
  },
  {
   "cell_type": "markdown",
   "id": "269a6b88-bcde-4ca7-986a-9739ecda87b4",
   "metadata": {},
   "source": [
    "# aagar aalag aalag column ke null values ko aalag aalag data ke sath fill kar na ho too?"
   ]
  },
  {
   "cell_type": "code",
   "execution_count": 17,
   "id": "4f2c2753-4000-4bfd-98c4-3204a832c896",
   "metadata": {},
   "outputs": [
    {
     "data": {
      "text/html": [
       "<div>\n",
       "<style scoped>\n",
       "    .dataframe tbody tr th:only-of-type {\n",
       "        vertical-align: middle;\n",
       "    }\n",
       "\n",
       "    .dataframe tbody tr th {\n",
       "        vertical-align: top;\n",
       "    }\n",
       "\n",
       "    .dataframe thead th {\n",
       "        text-align: right;\n",
       "    }\n",
       "</style>\n",
       "<table border=\"1\" class=\"dataframe\">\n",
       "  <thead>\n",
       "    <tr style=\"text-align: right;\">\n",
       "      <th></th>\n",
       "      <th>A</th>\n",
       "      <th>B</th>\n",
       "      <th>C</th>\n",
       "    </tr>\n",
       "  </thead>\n",
       "  <tbody>\n",
       "    <tr>\n",
       "      <th>0</th>\n",
       "      <td>1.0</td>\n",
       "      <td>Devil</td>\n",
       "      <td>1</td>\n",
       "    </tr>\n",
       "    <tr>\n",
       "      <th>1</th>\n",
       "      <td>2.0</td>\n",
       "      <td>2.0</td>\n",
       "      <td>2</td>\n",
       "    </tr>\n",
       "    <tr>\n",
       "      <th>2</th>\n",
       "      <td>Beats</td>\n",
       "      <td>3.0</td>\n",
       "      <td>3</td>\n",
       "    </tr>\n",
       "    <tr>\n",
       "      <th>3</th>\n",
       "      <td>4.0</td>\n",
       "      <td>4.0</td>\n",
       "      <td>4</td>\n",
       "    </tr>\n",
       "  </tbody>\n",
       "</table>\n",
       "</div>"
      ],
      "text/plain": [
       "       A      B  C\n",
       "0    1.0  Devil  1\n",
       "1    2.0    2.0  2\n",
       "2  Beats    3.0  3\n",
       "3    4.0    4.0  4"
      ]
     },
     "execution_count": 17,
     "metadata": {},
     "output_type": "execute_result"
    }
   ],
   "source": [
    "import pandas as pd\n",
    "\n",
    "df = pd.DataFrame({\n",
    "    'A' : [1, 2, None, 4],\n",
    "    'B': [None, 2, 3, 4],\n",
    "    'C' : [1, 2, 3, 4]\n",
    "})\n",
    "\n",
    "df.fillna({\"A\": \"Beats\", \"B\": \"Devil\", \"C\":\"Viper\"})"
   ]
  }
 ],
 "metadata": {
  "kernelspec": {
   "display_name": "Python 3 (ipykernel)",
   "language": "python",
   "name": "python3"
  },
  "language_info": {
   "codemirror_mode": {
    "name": "ipython",
    "version": 3
   },
   "file_extension": ".py",
   "mimetype": "text/x-python",
   "name": "python",
   "nbconvert_exporter": "python",
   "pygments_lexer": "ipython3",
   "version": "3.12.3"
  }
 },
 "nbformat": 4,
 "nbformat_minor": 5
}
