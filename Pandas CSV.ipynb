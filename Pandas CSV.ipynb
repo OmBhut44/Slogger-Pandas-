{
 "cells": [
  {
   "cell_type": "markdown",
   "id": "5fbeef52-76ba-41b2-8d8a-715fb3703c9e",
   "metadata": {},
   "source": [
    "# Reading CSV file"
   ]
  },
  {
   "cell_type": "code",
   "execution_count": 1,
   "id": "0041ad0b-d06e-4a77-a2f7-2bb351031a13",
   "metadata": {},
   "outputs": [
    {
     "name": "stdout",
     "output_type": "stream",
     "text": [
      "    Name                  Rank  Score_board  Roll_no    Gun    Squad\n",
      "0  Beast                Heroic            1       20    AWM    Panda\n",
      "1  Devil           Grandmaster            2       21  M1887      UNB\n",
      "2  Viper  International Master            3       22    M14  Mortals\n",
      "3  Ninja               Bronze            31       23     Ar      UNB\n",
      "4    Don                Silver           21       24  Famas  Mortals\n"
     ]
    }
   ],
   "source": [
    "import pandas as pd\n",
    "df = pd.read_csv('Beast.csv')\n",
    "print(df.head())"
   ]
  },
  {
   "cell_type": "markdown",
   "id": "93092a6c-8c69-406c-af13-d1b507410bd0",
   "metadata": {},
   "source": [
    "# writing to csv file"
   ]
  },
  {
   "cell_type": "code",
   "execution_count": 2,
   "id": "0424f005-de91-471a-ab02-c7c6efc32362",
   "metadata": {},
   "outputs": [
    {
     "data": {
      "text/html": [
       "<div>\n",
       "<style scoped>\n",
       "    .dataframe tbody tr th:only-of-type {\n",
       "        vertical-align: middle;\n",
       "    }\n",
       "\n",
       "    .dataframe tbody tr th {\n",
       "        vertical-align: top;\n",
       "    }\n",
       "\n",
       "    .dataframe thead th {\n",
       "        text-align: right;\n",
       "    }\n",
       "</style>\n",
       "<table border=\"1\" class=\"dataframe\">\n",
       "  <thead>\n",
       "    <tr style=\"text-align: right;\">\n",
       "      <th></th>\n",
       "      <th>Name</th>\n",
       "      <th>Rank</th>\n",
       "      <th>Score_board</th>\n",
       "      <th>Roll_no</th>\n",
       "      <th>Gun</th>\n",
       "      <th>Squad</th>\n",
       "    </tr>\n",
       "  </thead>\n",
       "  <tbody>\n",
       "    <tr>\n",
       "      <th>0</th>\n",
       "      <td>Beast</td>\n",
       "      <td>Heroic</td>\n",
       "      <td>1</td>\n",
       "      <td>20</td>\n",
       "      <td>AWM</td>\n",
       "      <td>Panda</td>\n",
       "    </tr>\n",
       "    <tr>\n",
       "      <th>1</th>\n",
       "      <td>DEvil</td>\n",
       "      <td>Grandmaster</td>\n",
       "      <td>2</td>\n",
       "      <td>21</td>\n",
       "      <td>M1887</td>\n",
       "      <td>UNB</td>\n",
       "    </tr>\n",
       "    <tr>\n",
       "      <th>2</th>\n",
       "      <td>Viper</td>\n",
       "      <td>International Master</td>\n",
       "      <td>3</td>\n",
       "      <td>22</td>\n",
       "      <td>M14</td>\n",
       "      <td>Mortals</td>\n",
       "    </tr>\n",
       "  </tbody>\n",
       "</table>\n",
       "</div>"
      ],
      "text/plain": [
       "    Name                  Rank  Score_board  Roll_no    Gun    Squad\n",
       "0  Beast                Heroic            1       20    AWM    Panda\n",
       "1  DEvil           Grandmaster            2       21  M1887      UNB\n",
       "2  Viper  International Master            3       22    M14  Mortals"
      ]
     },
     "execution_count": 2,
     "metadata": {},
     "output_type": "execute_result"
    }
   ],
   "source": [
    "import pandas as pd\n",
    "data = {\n",
    "    'Name': [\"Beast\", \"DEvil\", \"Viper\"],\n",
    "    'Rank': [\"Heroic\", \"Grandmaster\", \"International Master\"],\n",
    "    'Score_board': [1, 2, 3],\n",
    "    'Roll_no': [20, 21, 22],\n",
    "    'Gun': [\"AWM\", \"M1887\", \"M14\"],\n",
    "    'Squad': [\"Panda\", \"UNB\", \"Mortals\"]\n",
    "}\n",
    "df = pd.DataFrame(data)\n",
    "df.to_csv(\"Beast.csv\", index = False)\n",
    "df"
   ]
  },
  {
   "cell_type": "markdown",
   "id": "a0fe24f0-b20e-4da7-be1e-9caa27612aab",
   "metadata": {},
   "source": [
    "# let's get the data for aprticular row"
   ]
  },
  {
   "cell_type": "code",
   "execution_count": 3,
   "id": "f5af1d6b-2575-41a5-b6f6-b9c292620ea3",
   "metadata": {},
   "outputs": [
    {
     "name": "stdout",
     "output_type": "stream",
     "text": [
      "    Name    Rank  Score_board  Roll_no  Gun  Squad\n",
      "0  Beast  Heroic            1       20  AWM  Panda\n"
     ]
    }
   ],
   "source": [
    "csv_1 = pd.read_csv(\"Beast.csv\", nrows = 1)\n",
    "print(csv_1)"
   ]
  },
  {
   "cell_type": "markdown",
   "id": "d3552237-e32d-4964-a739-fd542d5a1776",
   "metadata": {},
   "source": [
    "# What if i need the data of a particular column "
   ]
  },
  {
   "cell_type": "code",
   "execution_count": 4,
   "id": "3a139f55-8755-4e58-a7bb-e46fa1b7fc94",
   "metadata": {},
   "outputs": [
    {
     "data": {
      "text/html": [
       "<div>\n",
       "<style scoped>\n",
       "    .dataframe tbody tr th:only-of-type {\n",
       "        vertical-align: middle;\n",
       "    }\n",
       "\n",
       "    .dataframe tbody tr th {\n",
       "        vertical-align: top;\n",
       "    }\n",
       "\n",
       "    .dataframe thead th {\n",
       "        text-align: right;\n",
       "    }\n",
       "</style>\n",
       "<table border=\"1\" class=\"dataframe\">\n",
       "  <thead>\n",
       "    <tr style=\"text-align: right;\">\n",
       "      <th></th>\n",
       "      <th>Rank</th>\n",
       "    </tr>\n",
       "  </thead>\n",
       "  <tbody>\n",
       "    <tr>\n",
       "      <th>0</th>\n",
       "      <td>Heroic</td>\n",
       "    </tr>\n",
       "    <tr>\n",
       "      <th>1</th>\n",
       "      <td>Grandmaster</td>\n",
       "    </tr>\n",
       "    <tr>\n",
       "      <th>2</th>\n",
       "      <td>International Master</td>\n",
       "    </tr>\n",
       "  </tbody>\n",
       "</table>\n",
       "</div>"
      ],
      "text/plain": [
       "                   Rank\n",
       "0                Heroic\n",
       "1           Grandmaster\n",
       "2  International Master"
      ]
     },
     "execution_count": 4,
     "metadata": {},
     "output_type": "execute_result"
    }
   ],
   "source": [
    "column_data = pd.read_csv(\"Beast.csv\", usecols = [\"Rank\"])\n",
    "column_data"
   ]
  },
  {
   "cell_type": "markdown",
   "id": "0a368c6e-5de9-4432-8d6f-c0c4d101326e",
   "metadata": {},
   "source": [
    "# let suppose we need teh data from multiple column "
   ]
  },
  {
   "cell_type": "code",
   "execution_count": 5,
   "id": "52b2d81f-0ac5-4db8-8840-74caaf0099cd",
   "metadata": {},
   "outputs": [
    {
     "data": {
      "text/html": [
       "<div>\n",
       "<style scoped>\n",
       "    .dataframe tbody tr th:only-of-type {\n",
       "        vertical-align: middle;\n",
       "    }\n",
       "\n",
       "    .dataframe tbody tr th {\n",
       "        vertical-align: top;\n",
       "    }\n",
       "\n",
       "    .dataframe thead th {\n",
       "        text-align: right;\n",
       "    }\n",
       "</style>\n",
       "<table border=\"1\" class=\"dataframe\">\n",
       "  <thead>\n",
       "    <tr style=\"text-align: right;\">\n",
       "      <th></th>\n",
       "      <th>Name</th>\n",
       "      <th>Roll_no</th>\n",
       "    </tr>\n",
       "  </thead>\n",
       "  <tbody>\n",
       "    <tr>\n",
       "      <th>0</th>\n",
       "      <td>Beast</td>\n",
       "      <td>20</td>\n",
       "    </tr>\n",
       "    <tr>\n",
       "      <th>1</th>\n",
       "      <td>DEvil</td>\n",
       "      <td>21</td>\n",
       "    </tr>\n",
       "    <tr>\n",
       "      <th>2</th>\n",
       "      <td>Viper</td>\n",
       "      <td>22</td>\n",
       "    </tr>\n",
       "  </tbody>\n",
       "</table>\n",
       "</div>"
      ],
      "text/plain": [
       "    Name  Roll_no\n",
       "0  Beast       20\n",
       "1  DEvil       21\n",
       "2  Viper       22"
      ]
     },
     "execution_count": 5,
     "metadata": {},
     "output_type": "execute_result"
    }
   ],
   "source": [
    "column_data = pd.read_csv(\"Beast.csv\", usecols = [0, 3])\n",
    "column_data"
   ]
  },
  {
   "cell_type": "code",
   "execution_count": 6,
   "id": "2f0087ff-70f4-417b-a791-051396f4d683",
   "metadata": {},
   "outputs": [
    {
     "name": "stdout",
     "output_type": "stream",
     "text": [
      "    Name                  Rank  Score_board  Roll_no    Gun    Squad\n",
      "0  Beast                Heroic            1       20    AWM    Panda\n",
      "1  DEvil           Grandmaster            2       21  M1887      UNB\n",
      "2  Viper  International Master            3       22    M14  Mortals\n",
      "\n",
      "\n",
      "   Beast                Heroic  1  20    AWM    Panda\n",
      "0  DEvil           Grandmaster  2  21  M1887      UNB\n",
      "1  Viper  International Master  3  22    M14  Mortals\n",
      "\n",
      "\n",
      "   Beast       Heroic  1  20    AWM Panda\n",
      "0  DEvil  Grandmaster  2  21  M1887   UNB\n"
     ]
    }
   ],
   "source": [
    "# If i wan tto skip any row\n",
    "skip_function = pd.read_csv(\"Beast.csv\", skiprows = 0)\n",
    "print(skip_function)\n",
    "print()\n",
    "print()\n",
    "\n",
    "skip_function = pd.read_csv(\"Beast.csv\", skiprows = 1)\n",
    "print(skip_function)\n",
    "print()\n",
    "print()\n",
    "\n",
    "skip_function = pd.read_csv(\"Beast.csv\", skiprows = [0,3])\n",
    "print(skip_function)\n"
   ]
  },
  {
   "cell_type": "markdown",
   "id": "d24105b2-b4f7-4bcd-bef8-87b6eac19bb7",
   "metadata": {},
   "source": [
    "# let's make some ther column as our index"
   ]
  },
  {
   "cell_type": "code",
   "execution_count": 7,
   "id": "e1c91cd6-cb74-44e3-8045-ef7e888e11b5",
   "metadata": {},
   "outputs": [
    {
     "data": {
      "text/html": [
       "<div>\n",
       "<style scoped>\n",
       "    .dataframe tbody tr th:only-of-type {\n",
       "        vertical-align: middle;\n",
       "    }\n",
       "\n",
       "    .dataframe tbody tr th {\n",
       "        vertical-align: top;\n",
       "    }\n",
       "\n",
       "    .dataframe thead th {\n",
       "        text-align: right;\n",
       "    }\n",
       "</style>\n",
       "<table border=\"1\" class=\"dataframe\">\n",
       "  <thead>\n",
       "    <tr style=\"text-align: right;\">\n",
       "      <th></th>\n",
       "      <th>Name</th>\n",
       "      <th>Score_board</th>\n",
       "      <th>Roll_no</th>\n",
       "      <th>Gun</th>\n",
       "      <th>Squad</th>\n",
       "    </tr>\n",
       "    <tr>\n",
       "      <th>Rank</th>\n",
       "      <th></th>\n",
       "      <th></th>\n",
       "      <th></th>\n",
       "      <th></th>\n",
       "      <th></th>\n",
       "    </tr>\n",
       "  </thead>\n",
       "  <tbody>\n",
       "    <tr>\n",
       "      <th>Heroic</th>\n",
       "      <td>Beast</td>\n",
       "      <td>1</td>\n",
       "      <td>20</td>\n",
       "      <td>AWM</td>\n",
       "      <td>Panda</td>\n",
       "    </tr>\n",
       "    <tr>\n",
       "      <th>Grandmaster</th>\n",
       "      <td>DEvil</td>\n",
       "      <td>2</td>\n",
       "      <td>21</td>\n",
       "      <td>M1887</td>\n",
       "      <td>UNB</td>\n",
       "    </tr>\n",
       "    <tr>\n",
       "      <th>International Master</th>\n",
       "      <td>Viper</td>\n",
       "      <td>3</td>\n",
       "      <td>22</td>\n",
       "      <td>M14</td>\n",
       "      <td>Mortals</td>\n",
       "    </tr>\n",
       "  </tbody>\n",
       "</table>\n",
       "</div>"
      ],
      "text/plain": [
       "                       Name  Score_board  Roll_no    Gun    Squad\n",
       "Rank                                                             \n",
       "Heroic                Beast            1       20    AWM    Panda\n",
       "Grandmaster           DEvil            2       21  M1887      UNB\n",
       "International Master  Viper            3       22    M14  Mortals"
      ]
     },
     "execution_count": 7,
     "metadata": {},
     "output_type": "execute_result"
    }
   ],
   "source": [
    "new_index = pd.read_csv(\"Beast.csv\", index_col = \"Rank\")\n",
    "new_index"
   ]
  },
  {
   "cell_type": "markdown",
   "id": "a99371f9-ab3e-4353-81c3-8596749a3deb",
   "metadata": {},
   "source": [
    "# let's make some ther row as our header"
   ]
  },
  {
   "cell_type": "code",
   "execution_count": 8,
   "id": "efb42bf0-27f8-4780-91fd-be51b8656882",
   "metadata": {},
   "outputs": [
    {
     "data": {
      "text/html": [
       "<div>\n",
       "<style scoped>\n",
       "    .dataframe tbody tr th:only-of-type {\n",
       "        vertical-align: middle;\n",
       "    }\n",
       "\n",
       "    .dataframe tbody tr th {\n",
       "        vertical-align: top;\n",
       "    }\n",
       "\n",
       "    .dataframe thead th {\n",
       "        text-align: right;\n",
       "    }\n",
       "</style>\n",
       "<table border=\"1\" class=\"dataframe\">\n",
       "  <thead>\n",
       "    <tr style=\"text-align: right;\">\n",
       "      <th></th>\n",
       "      <th>Beast</th>\n",
       "      <th>Heroic</th>\n",
       "      <th>1</th>\n",
       "      <th>20</th>\n",
       "      <th>AWM</th>\n",
       "      <th>Panda</th>\n",
       "    </tr>\n",
       "  </thead>\n",
       "  <tbody>\n",
       "    <tr>\n",
       "      <th>0</th>\n",
       "      <td>DEvil</td>\n",
       "      <td>Grandmaster</td>\n",
       "      <td>2</td>\n",
       "      <td>21</td>\n",
       "      <td>M1887</td>\n",
       "      <td>UNB</td>\n",
       "    </tr>\n",
       "    <tr>\n",
       "      <th>1</th>\n",
       "      <td>Viper</td>\n",
       "      <td>International Master</td>\n",
       "      <td>3</td>\n",
       "      <td>22</td>\n",
       "      <td>M14</td>\n",
       "      <td>Mortals</td>\n",
       "    </tr>\n",
       "  </tbody>\n",
       "</table>\n",
       "</div>"
      ],
      "text/plain": [
       "   Beast                Heroic  1  20    AWM    Panda\n",
       "0  DEvil           Grandmaster  2  21  M1887      UNB\n",
       "1  Viper  International Master  3  22    M14  Mortals"
      ]
     },
     "execution_count": 8,
     "metadata": {},
     "output_type": "execute_result"
    }
   ],
   "source": [
    "row_heder = pd.read_csv(\"Beast.csv\", header = 1)\n",
    "row_heder"
   ]
  },
  {
   "cell_type": "markdown",
   "id": "272d2f43-31ba-41a6-af7f-1a262071bf97",
   "metadata": {},
   "source": [
    "# If I want to change entiere heading: "
   ]
  },
  {
   "cell_type": "code",
   "execution_count": 9,
   "id": "c1d9f76d-5feb-4283-8dca-f5542a4edf88",
   "metadata": {},
   "outputs": [
    {
     "data": {
      "text/html": [
       "<div>\n",
       "<style scoped>\n",
       "    .dataframe tbody tr th:only-of-type {\n",
       "        vertical-align: middle;\n",
       "    }\n",
       "\n",
       "    .dataframe tbody tr th {\n",
       "        vertical-align: top;\n",
       "    }\n",
       "\n",
       "    .dataframe thead th {\n",
       "        text-align: right;\n",
       "    }\n",
       "</style>\n",
       "<table border=\"1\" class=\"dataframe\">\n",
       "  <thead>\n",
       "    <tr style=\"text-align: right;\">\n",
       "      <th></th>\n",
       "      <th></th>\n",
       "      <th></th>\n",
       "      <th>1</th>\n",
       "      <th>2</th>\n",
       "      <th>3</th>\n",
       "    </tr>\n",
       "  </thead>\n",
       "  <tbody>\n",
       "    <tr>\n",
       "      <th>Name</th>\n",
       "      <th>Rank</th>\n",
       "      <th>Score_board</th>\n",
       "      <td>Roll_no</td>\n",
       "      <td>Gun</td>\n",
       "      <td>Squad</td>\n",
       "    </tr>\n",
       "    <tr>\n",
       "      <th>Beast</th>\n",
       "      <th>Heroic</th>\n",
       "      <th>1</th>\n",
       "      <td>20</td>\n",
       "      <td>AWM</td>\n",
       "      <td>Panda</td>\n",
       "    </tr>\n",
       "    <tr>\n",
       "      <th>DEvil</th>\n",
       "      <th>Grandmaster</th>\n",
       "      <th>2</th>\n",
       "      <td>21</td>\n",
       "      <td>M1887</td>\n",
       "      <td>UNB</td>\n",
       "    </tr>\n",
       "    <tr>\n",
       "      <th>Viper</th>\n",
       "      <th>International Master</th>\n",
       "      <th>3</th>\n",
       "      <td>22</td>\n",
       "      <td>M14</td>\n",
       "      <td>Mortals</td>\n",
       "    </tr>\n",
       "  </tbody>\n",
       "</table>\n",
       "</div>"
      ],
      "text/plain": [
       "                                              1      2        3\n",
       "Name  Rank                 Score_board  Roll_no    Gun    Squad\n",
       "Beast Heroic               1                 20    AWM    Panda\n",
       "DEvil Grandmaster          2                 21  M1887      UNB\n",
       "Viper International Master 3                 22    M14  Mortals"
      ]
     },
     "execution_count": 9,
     "metadata": {},
     "output_type": "execute_result"
    }
   ],
   "source": [
    "# change_heading = pd.read_csv(\"Beast.csv\", names = [\"1\", \"2\", \"3\", \"4\", \"5\"])\n",
    "change_heading = pd.read_csv(\"Beast.csv\", names = [1, 2, 3])\n",
    "change_heading"
   ]
  },
  {
   "cell_type": "markdown",
   "id": "69ff6e75-48ab-4973-b642-5a6dd77e3d93",
   "metadata": {},
   "source": [
    "# If I want to get data using slicing:"
   ]
  },
  {
   "cell_type": "code",
   "execution_count": 15,
   "id": "87dd6986-8778-4f44-bf29-3d84c4e81218",
   "metadata": {},
   "outputs": [
    {
     "data": {
      "text/html": [
       "<div>\n",
       "<style scoped>\n",
       "    .dataframe tbody tr th:only-of-type {\n",
       "        vertical-align: middle;\n",
       "    }\n",
       "\n",
       "    .dataframe tbody tr th {\n",
       "        vertical-align: top;\n",
       "    }\n",
       "\n",
       "    .dataframe thead th {\n",
       "        text-align: right;\n",
       "    }\n",
       "</style>\n",
       "<table border=\"1\" class=\"dataframe\">\n",
       "  <thead>\n",
       "    <tr style=\"text-align: right;\">\n",
       "      <th></th>\n",
       "      <th>Name</th>\n",
       "      <th>Rank</th>\n",
       "      <th>Score_board</th>\n",
       "      <th>Roll_no</th>\n",
       "      <th>Gun</th>\n",
       "      <th>Squad</th>\n",
       "    </tr>\n",
       "  </thead>\n",
       "  <tbody>\n",
       "    <tr>\n",
       "      <th>0</th>\n",
       "      <td>Beast</td>\n",
       "      <td>Heroic</td>\n",
       "      <td>1</td>\n",
       "      <td>20</td>\n",
       "      <td>AWM</td>\n",
       "      <td>Panda</td>\n",
       "    </tr>\n",
       "  </tbody>\n",
       "</table>\n",
       "</div>"
      ],
      "text/plain": [
       "    Name    Rank  Score_board  Roll_no  Gun  Squad\n",
       "0  Beast  Heroic            1       20  AWM  Panda"
      ]
     },
     "execution_count": 15,
     "metadata": {},
     "output_type": "execute_result"
    }
   ],
   "source": [
    "df[:1]"
   ]
  },
  {
   "cell_type": "markdown",
   "id": "f375d3eb-1507-479c-99f6-5471fdd250e2",
   "metadata": {},
   "source": [
    "# let' s check the type of our csv file which we are reading using df -> [df = read_csv(\"Beast.csv\")]"
   ]
  },
  {
   "cell_type": "code",
   "execution_count": 20,
   "id": "255fa9da-b770-48a7-af05-b841f0f365ac",
   "metadata": {},
   "outputs": [
    {
     "name": "stdout",
     "output_type": "stream",
     "text": [
      "<class 'pandas.core.frame.DataFrame'>\n"
     ]
    }
   ],
   "source": [
    "print(type(df))"
   ]
  },
  {
   "cell_type": "markdown",
   "id": "e4c9b170-5f2b-4ec8-ae32-4f027b0bafdf",
   "metadata": {},
   "source": [
    "# If I wnt to display all of my index into an array: "
   ]
  },
  {
   "cell_type": "code",
   "execution_count": 35,
   "id": "b3cd9200-5d71-498a-8169-e552e4e68a83",
   "metadata": {},
   "outputs": [
    {
     "name": "stdout",
     "output_type": "stream",
     "text": [
      "<NumpyExtensionArray>\n",
      "[0, 1, 2]\n",
      "Length: 3, dtype: int64\n",
      "\n",
      "<NumpyExtensionArray>\n",
      "['Name', 'Rank', 'Score_board', 'Roll_no', 'Gun', 'Squad']\n",
      "Length: 6, dtype: object\n"
     ]
    }
   ],
   "source": [
    "print(df.index.array)\n",
    "print()\n",
    "print(df.columns.array)\n"
   ]
  },
  {
   "cell_type": "markdown",
   "id": "bbdc69d5-0d93-4646-8e24-4ba9f73f38e0",
   "metadata": {},
   "source": [
    "# let's convert this whole in to an numpy array"
   ]
  },
  {
   "cell_type": "code",
   "execution_count": 36,
   "id": "4a2d42a4-5312-45c9-a960-94ae10a17ba4",
   "metadata": {},
   "outputs": [
    {
     "data": {
      "text/plain": [
       "array([['Beast', 'Heroic', 1, 20, 'AWM', 'Panda'],\n",
       "       ['DEvil', 'Grandmaster', 2, 21, 'M1887', 'UNB'],\n",
       "       ['Viper', 'International Master', 3, 22, 'M14', 'Mortals']],\n",
       "      dtype=object)"
      ]
     },
     "execution_count": 36,
     "metadata": {},
     "output_type": "execute_result"
    }
   ],
   "source": [
    "df.to_numpy()"
   ]
  },
  {
   "cell_type": "markdown",
   "id": "55104613-1e80-4d25-9277-03f015f98ad2",
   "metadata": {},
   "source": [
    "# their is another way to do the same means we can convert the whole df into an array using a function "
   ]
  },
  {
   "cell_type": "code",
   "execution_count": 42,
   "id": "ce5c302e-aca1-4561-aff3-5866d2474f02",
   "metadata": {},
   "outputs": [
    {
     "data": {
      "text/plain": [
       "array([['Beast', 'Heroic', 1, 20, 'AWM', 'Panda'],\n",
       "       ['DEvil', 'Grandmaster', 2, 21, 'M1887', 'UNB'],\n",
       "       ['Viper', 'International Master', 3, 22, 'M14', 'Mortals']],\n",
       "      dtype=object)"
      ]
     },
     "execution_count": 42,
     "metadata": {},
     "output_type": "execute_result"
    }
   ],
   "source": [
    "import numpy as np \n",
    "v = np.asarray(df)\n",
    "v"
   ]
  },
  {
   "cell_type": "markdown",
   "id": "5acda26b-5fe8-4863-b32d-a7582aeab066",
   "metadata": {},
   "source": [
    "# if i want to my data into ascending or descending order."
   ]
  },
  {
   "cell_type": "code",
   "execution_count": 50,
   "id": "506773d6-e3f6-453b-8252-42ded3de8dad",
   "metadata": {},
   "outputs": [
    {
     "data": {
      "text/html": [
       "<div>\n",
       "<style scoped>\n",
       "    .dataframe tbody tr th:only-of-type {\n",
       "        vertical-align: middle;\n",
       "    }\n",
       "\n",
       "    .dataframe tbody tr th {\n",
       "        vertical-align: top;\n",
       "    }\n",
       "\n",
       "    .dataframe thead th {\n",
       "        text-align: right;\n",
       "    }\n",
       "</style>\n",
       "<table border=\"1\" class=\"dataframe\">\n",
       "  <thead>\n",
       "    <tr style=\"text-align: right;\">\n",
       "      <th></th>\n",
       "      <th>Name</th>\n",
       "      <th>Rank</th>\n",
       "      <th>Score_board</th>\n",
       "      <th>Roll_no</th>\n",
       "      <th>Gun</th>\n",
       "      <th>Squad</th>\n",
       "    </tr>\n",
       "  </thead>\n",
       "  <tbody>\n",
       "    <tr>\n",
       "      <th>2</th>\n",
       "      <td>Viper</td>\n",
       "      <td>International Master</td>\n",
       "      <td>3</td>\n",
       "      <td>22</td>\n",
       "      <td>M14</td>\n",
       "      <td>Mortals</td>\n",
       "    </tr>\n",
       "    <tr>\n",
       "      <th>1</th>\n",
       "      <td>DEvil</td>\n",
       "      <td>Grandmaster</td>\n",
       "      <td>2</td>\n",
       "      <td>21</td>\n",
       "      <td>M1887</td>\n",
       "      <td>UNB</td>\n",
       "    </tr>\n",
       "    <tr>\n",
       "      <th>0</th>\n",
       "      <td>Beast</td>\n",
       "      <td>Heroic</td>\n",
       "      <td>1</td>\n",
       "      <td>20</td>\n",
       "      <td>AWM</td>\n",
       "      <td>Panda</td>\n",
       "    </tr>\n",
       "  </tbody>\n",
       "</table>\n",
       "</div>"
      ],
      "text/plain": [
       "    Name                  Rank  Score_board  Roll_no    Gun    Squad\n",
       "2  Viper  International Master            3       22    M14  Mortals\n",
       "1  DEvil           Grandmaster            2       21  M1887      UNB\n",
       "0  Beast                Heroic            1       20    AWM    Panda"
      ]
     },
     "execution_count": 50,
     "metadata": {},
     "output_type": "execute_result"
    }
   ],
   "source": [
    "df.sort_index(axis=0, ascending = False) "
   ]
  },
  {
   "cell_type": "markdown",
   "id": "629af4a8-ddd5-4ef3-be85-80fa27c0cbf5",
   "metadata": {},
   "source": [
    "# I can change the data inside  df like this but it is not the good practice.\n",
    "* This will give some warnings:"
   ]
  },
  {
   "cell_type": "code",
   "execution_count": 55,
   "id": "5c2a62bd-7cdd-4327-a38d-4bfef1dac710",
   "metadata": {},
   "outputs": [
    {
     "name": "stderr",
     "output_type": "stream",
     "text": [
      "C:\\Users\\ACER\\AppData\\Local\\Temp\\ipykernel_220\\2851884824.py:1: FutureWarning: ChainedAssignmentError: behaviour will change in pandas 3.0!\n",
      "You are setting values through chained assignment. Currently this works in certain cases, but when using Copy-on-Write (which will become the default behaviour in pandas 3.0) this will never work to update the original DataFrame or Series, because the intermediate object on which we are setting values will behave as a copy.\n",
      "A typical example is when you are setting values in a column of a DataFrame, like:\n",
      "\n",
      "df[\"col\"][row_indexer] = value\n",
      "\n",
      "Use `df.loc[row_indexer, \"col\"] = values` instead, to perform the assignment in a single step and ensure this keeps updating the original `df`.\n",
      "\n",
      "See the caveats in the documentation: https://pandas.pydata.org/pandas-docs/stable/user_guide/indexing.html#returning-a-view-versus-a-copy\n",
      "\n",
      "  df[\"Name\"][1] = \"Devil\"\n",
      "C:\\Users\\ACER\\AppData\\Local\\Temp\\ipykernel_220\\2851884824.py:1: SettingWithCopyWarning: \n",
      "A value is trying to be set on a copy of a slice from a DataFrame\n",
      "\n",
      "See the caveats in the documentation: https://pandas.pydata.org/pandas-docs/stable/user_guide/indexing.html#returning-a-view-versus-a-copy\n",
      "  df[\"Name\"][1] = \"Devil\"\n"
     ]
    },
    {
     "data": {
      "text/html": [
       "<div>\n",
       "<style scoped>\n",
       "    .dataframe tbody tr th:only-of-type {\n",
       "        vertical-align: middle;\n",
       "    }\n",
       "\n",
       "    .dataframe tbody tr th {\n",
       "        vertical-align: top;\n",
       "    }\n",
       "\n",
       "    .dataframe thead th {\n",
       "        text-align: right;\n",
       "    }\n",
       "</style>\n",
       "<table border=\"1\" class=\"dataframe\">\n",
       "  <thead>\n",
       "    <tr style=\"text-align: right;\">\n",
       "      <th></th>\n",
       "      <th>Name</th>\n",
       "      <th>Rank</th>\n",
       "      <th>Score_board</th>\n",
       "      <th>Roll_no</th>\n",
       "      <th>Gun</th>\n",
       "      <th>Squad</th>\n",
       "    </tr>\n",
       "  </thead>\n",
       "  <tbody>\n",
       "    <tr>\n",
       "      <th>0</th>\n",
       "      <td>Beast</td>\n",
       "      <td>Heroic</td>\n",
       "      <td>1</td>\n",
       "      <td>20</td>\n",
       "      <td>AWM</td>\n",
       "      <td>Panda</td>\n",
       "    </tr>\n",
       "    <tr>\n",
       "      <th>1</th>\n",
       "      <td>Devil</td>\n",
       "      <td>Grandmaster</td>\n",
       "      <td>2</td>\n",
       "      <td>21</td>\n",
       "      <td>M1887</td>\n",
       "      <td>UNB</td>\n",
       "    </tr>\n",
       "    <tr>\n",
       "      <th>2</th>\n",
       "      <td>Viper</td>\n",
       "      <td>International Master</td>\n",
       "      <td>3</td>\n",
       "      <td>22</td>\n",
       "      <td>M14</td>\n",
       "      <td>Mortals</td>\n",
       "    </tr>\n",
       "  </tbody>\n",
       "</table>\n",
       "</div>"
      ],
      "text/plain": [
       "    Name                  Rank  Score_board  Roll_no    Gun    Squad\n",
       "0  Beast                Heroic            1       20    AWM    Panda\n",
       "1  Devil           Grandmaster            2       21  M1887      UNB\n",
       "2  Viper  International Master            3       22    M14  Mortals"
      ]
     },
     "execution_count": 55,
     "metadata": {},
     "output_type": "execute_result"
    }
   ],
   "source": [
    "df[\"Name\"][1] = \"Devil\"\n",
    "df"
   ]
  },
  {
   "cell_type": "markdown",
   "id": "ab2eac62-6c41-4e9b-a7e5-7902d4715bb2",
   "metadata": {},
   "source": [
    "# This will not give any warning: "
   ]
  },
  {
   "cell_type": "code",
   "execution_count": 59,
   "id": "a0052317-29c8-4bfe-97a6-382f07b45aef",
   "metadata": {},
   "outputs": [
    {
     "data": {
      "text/html": [
       "<div>\n",
       "<style scoped>\n",
       "    .dataframe tbody tr th:only-of-type {\n",
       "        vertical-align: middle;\n",
       "    }\n",
       "\n",
       "    .dataframe tbody tr th {\n",
       "        vertical-align: top;\n",
       "    }\n",
       "\n",
       "    .dataframe thead th {\n",
       "        text-align: right;\n",
       "    }\n",
       "</style>\n",
       "<table border=\"1\" class=\"dataframe\">\n",
       "  <thead>\n",
       "    <tr style=\"text-align: right;\">\n",
       "      <th></th>\n",
       "      <th>Name</th>\n",
       "      <th>Rank</th>\n",
       "      <th>Score_board</th>\n",
       "      <th>Roll_no</th>\n",
       "      <th>Gun</th>\n",
       "      <th>Squad</th>\n",
       "    </tr>\n",
       "  </thead>\n",
       "  <tbody>\n",
       "    <tr>\n",
       "      <th>0</th>\n",
       "      <td>Monster</td>\n",
       "      <td>Heroic</td>\n",
       "      <td>1</td>\n",
       "      <td>20</td>\n",
       "      <td>AWM</td>\n",
       "      <td>Panda</td>\n",
       "    </tr>\n",
       "    <tr>\n",
       "      <th>1</th>\n",
       "      <td>Devil</td>\n",
       "      <td>Grandmaster</td>\n",
       "      <td>2</td>\n",
       "      <td>21</td>\n",
       "      <td>M1887</td>\n",
       "      <td>UNB</td>\n",
       "    </tr>\n",
       "    <tr>\n",
       "      <th>2</th>\n",
       "      <td>Viper</td>\n",
       "      <td>International Master</td>\n",
       "      <td>3</td>\n",
       "      <td>22</td>\n",
       "      <td>M14</td>\n",
       "      <td>Mortals</td>\n",
       "    </tr>\n",
       "  </tbody>\n",
       "</table>\n",
       "</div>"
      ],
      "text/plain": [
       "      Name                  Rank  Score_board  Roll_no    Gun    Squad\n",
       "0  Monster                Heroic            1       20    AWM    Panda\n",
       "1    Devil           Grandmaster            2       21  M1887      UNB\n",
       "2    Viper  International Master            3       22    M14  Mortals"
      ]
     },
     "execution_count": 59,
     "metadata": {},
     "output_type": "execute_result"
    }
   ],
   "source": [
    "df.loc[0, \"Name\"]  = \"Monster\"\n",
    "df"
   ]
  },
  {
   "cell_type": "markdown",
   "id": "f265b712-9445-43c9-887a-bb444cf7a623",
   "metadata": {},
   "source": [
    "# Suppose we need any particular data"
   ]
  },
  {
   "cell_type": "code",
   "execution_count": 61,
   "id": "59079679-9dc6-42dd-929e-f1caaa71a869",
   "metadata": {},
   "outputs": [
    {
     "data": {
      "text/html": [
       "<div>\n",
       "<style scoped>\n",
       "    .dataframe tbody tr th:only-of-type {\n",
       "        vertical-align: middle;\n",
       "    }\n",
       "\n",
       "    .dataframe tbody tr th {\n",
       "        vertical-align: top;\n",
       "    }\n",
       "\n",
       "    .dataframe thead th {\n",
       "        text-align: right;\n",
       "    }\n",
       "</style>\n",
       "<table border=\"1\" class=\"dataframe\">\n",
       "  <thead>\n",
       "    <tr style=\"text-align: right;\">\n",
       "      <th></th>\n",
       "      <th>Name</th>\n",
       "      <th>Rank</th>\n",
       "    </tr>\n",
       "  </thead>\n",
       "  <tbody>\n",
       "    <tr>\n",
       "      <th>0</th>\n",
       "      <td>Monster</td>\n",
       "      <td>Heroic</td>\n",
       "    </tr>\n",
       "    <tr>\n",
       "      <th>2</th>\n",
       "      <td>Viper</td>\n",
       "      <td>International Master</td>\n",
       "    </tr>\n",
       "  </tbody>\n",
       "</table>\n",
       "</div>"
      ],
      "text/plain": [
       "      Name                  Rank\n",
       "0  Monster                Heroic\n",
       "2    Viper  International Master"
      ]
     },
     "execution_count": 61,
     "metadata": {},
     "output_type": "execute_result"
    }
   ],
   "source": [
    "df.loc[[0,2], [\"Name\", \"Rank\"]]"
   ]
  },
  {
   "cell_type": "markdown",
   "id": "a9665296-e31c-4ade-8df9-a89cc15178cb",
   "metadata": {},
   "source": [
    "# iloc() Method: \n",
    "* Aagar humko specially ek particular value chaiyee too kya karengee"
   ]
  },
  {
   "cell_type": "code",
   "execution_count": 64,
   "id": "c23453c0-7f5b-441f-a309-426791cea7b2",
   "metadata": {},
   "outputs": [
    {
     "data": {
      "text/plain": [
       "'Heroic'"
      ]
     },
     "execution_count": 64,
     "metadata": {},
     "output_type": "execute_result"
    }
   ],
   "source": [
    "df.iloc[0,1]"
   ]
  },
  {
   "cell_type": "markdown",
   "id": "5284d66c-687b-40c4-b332-f33820a36252",
   "metadata": {},
   "source": [
    "# lets drop a column and a row: "
   ]
  },
  {
   "cell_type": "code",
   "execution_count": 85,
   "id": "5a5a6418-47aa-40b8-ac28-625910462b38",
   "metadata": {},
   "outputs": [
    {
     "name": "stdout",
     "output_type": "stream",
     "text": [
      "    Name                  Rank  Score_board  Roll_no    Gun    Squad\n",
      "1  Devil           Grandmaster            2       21  M1887      UNB\n",
      "2  Viper  International Master            3       22    M14  Mortals\n",
      "\n",
      "      Name                  Rank  Score_board  Roll_no  Gun    Squad\n",
      "0  Monster                Heroic            1       20  AWM    Panda\n",
      "2    Viper  International Master            3       22  M14  Mortals\n",
      "\n",
      "                   Rank  Score_board  Roll_no    Gun    Squad\n",
      "0                Heroic            1       20    AWM    Panda\n",
      "1           Grandmaster            2       21  M1887      UNB\n",
      "2  International Master            3       22    M14  Mortals\n"
     ]
    }
   ],
   "source": [
    "# df.drop(0, axis = 0) # this will drop the data of axis=0 (means row at zeroth index)\n",
    "a= df.drop(0, axis = 0) # This is not woring: \n",
    "print(a)\n",
    "print()\n",
    "b= df.drop(1, axis = 0) # This is not woring: \n",
    "print(b)\n",
    "print()\n",
    "\n",
    "# Even this is possible \n",
    "c= df.drop(\"Name\", axis = 1) # This is not woring: \n",
    "print(c)"
   ]
  }
 ],
 "metadata": {
  "kernelspec": {
   "display_name": "Python 3 (ipykernel)",
   "language": "python",
   "name": "python3"
  },
  "language_info": {
   "codemirror_mode": {
    "name": "ipython",
    "version": 3
   },
   "file_extension": ".py",
   "mimetype": "text/x-python",
   "name": "python",
   "nbconvert_exporter": "python",
   "pygments_lexer": "ipython3",
   "version": "3.12.3"
  }
 },
 "nbformat": 4,
 "nbformat_minor": 5
}
