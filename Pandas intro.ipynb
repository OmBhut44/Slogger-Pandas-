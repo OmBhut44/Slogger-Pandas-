{
 "cells": [
  {
   "cell_type": "markdown",
   "id": "47400bf9-9da6-49b4-9dd9-7630a4f7e4fa",
   "metadata": {},
   "source": [
    "# Series:"
   ]
  },
  {
   "cell_type": "code",
   "execution_count": 3,
   "id": "9575e30d-ec73-404f-92d9-f80a42b2cd06",
   "metadata": {},
   "outputs": [
    {
     "name": "stdout",
     "output_type": "stream",
     "text": [
      "0    10\n",
      "1    20\n",
      "2    30\n",
      "3    40\n",
      "4    50\n",
      "5    60\n",
      "dtype: int64\n",
      "<class 'pandas.core.series.Series'>\n"
     ]
    }
   ],
   "source": [
    "import pandas as pd\n",
    "\n",
    "# creating a series\n",
    "data = [10, 20, 30, 40, 50, 60]\n",
    "series = pd.Series(data)\n",
    "print(series)\n",
    "print(type(series))"
   ]
  },
  {
   "cell_type": "markdown",
   "id": "d3328171-5107-4023-91be-26bf70eb4b3b",
   "metadata": {},
   "source": [
    "# we can even pass a dictionary or tuuple instead of a list: "
   ]
  },
  {
   "cell_type": "code",
   "execution_count": 7,
   "id": "cfcdb9cf-dcd1-4dd1-aba6-dccb74cbe645",
   "metadata": {},
   "outputs": [
    {
     "name": "stdout",
     "output_type": "stream",
     "text": [
      "name                [Beast, Devil, Viper, Jack]\n",
      "rank           [Heroic, platinum, gold, silver]\n",
      "leaderboard                        [1, 2, 3, 4]\n",
      "dtype: object\n"
     ]
    }
   ],
   "source": [
    "dict = {\n",
    "    \"name\": [\"Beast\", \"Devil\", \"Viper\", \"Jack\"],\n",
    "    \"rank\": [\"Heroic\", \"platinum\", \"gold\", \"silver\"],\n",
    "    \"leaderboard\":[1, 2, 3, 4]\n",
    "}\n",
    "series = pd.Series(dict)\n",
    "# series\n",
    "print(series)"
   ]
  },
  {
   "cell_type": "markdown",
   "id": "e35f485d-5aae-423f-bea5-4d2c95dd034c",
   "metadata": {},
   "source": [
    "# we can even create a series only with a single value:"
   ]
  },
  {
   "cell_type": "code",
   "execution_count": 8,
   "id": "5783cfb4-2d89-4ee7-ba84-03ccead9f5b2",
   "metadata": {},
   "outputs": [
    {
     "name": "stdout",
     "output_type": "stream",
     "text": [
      "0    Beast\n",
      "dtype: object\n",
      "<class 'pandas.core.series.Series'>\n"
     ]
    }
   ],
   "source": [
    "s = pd.Series(\"Beast\")\n",
    "print(s)\n",
    "print(type(s))"
   ]
  },
  {
   "cell_type": "markdown",
   "id": "5292ef06-9f28-4128-8d64-500dc47b877d",
   "metadata": {},
   "source": [
    "# DataFrame:"
   ]
  },
  {
   "cell_type": "code",
   "execution_count": 1,
   "id": "53998225-6b6d-472b-ac7c-d84f751477c2",
   "metadata": {},
   "outputs": [
    {
     "name": "stdout",
     "output_type": "stream",
     "text": [
      "    Name  Age\n",
      "0  Beast   21\n",
      "1  Devil   22\n",
      "2  Viper   23\n",
      "<class 'pandas.core.frame.DataFrame'>\n"
     ]
    }
   ],
   "source": [
    "import pandas as pd\n",
    "\n",
    "data = {\n",
    "    'Name': [\"Beast\", \"Devil\", \"Viper\"],\n",
    "    'Age': [21, 22, 23]\n",
    "}\n",
    "df = pd.DataFrame(data)\n",
    "print(df)\n",
    "print(type(df))\n"
   ]
  },
  {
   "cell_type": "code",
   "execution_count": 3,
   "id": "36cfd9ff-1185-450f-b134-2c4ce7ff9cf2",
   "metadata": {},
   "outputs": [
    {
     "name": "stdout",
     "output_type": "stream",
     "text": [
      "   data_1  data_2\n",
      "0       1       1\n",
      "1       2       2\n",
      "2       3       3\n",
      "3       4       4\n",
      "4       5       5\n"
     ]
    }
   ],
   "source": [
    "new_data = {\n",
    "    'data_1': [1, 2, 3, 4],\n",
    "    'data_2': [1, 2, 3, 4, 5]\n",
    "}\n",
    "a = pd.DataFrame(new_data)\n",
    "print(a)"
   ]
  },
  {
   "cell_type": "code",
   "execution_count": 19,
   "id": "22148a33-a3c5-4113-912d-62442d858031",
   "metadata": {},
   "outputs": [
    {
     "name": "stdout",
     "output_type": "stream",
     "text": [
      "   0\n",
      "0  1\n",
      "1  2\n",
      "2  3\n",
      "<class 'pandas.core.frame.DataFrame'>\n"
     ]
    }
   ],
   "source": [
    "l1 = [1, 2, 3]\n",
    "var = pd.DataFrame(l1)\n",
    "print(var)\n",
    "print(type(var))"
   ]
  },
  {
   "cell_type": "code",
   "execution_count": 24,
   "id": "c50bab09-1f06-4b35-a14b-01c0ba4a59b0",
   "metadata": {},
   "outputs": [
    {
     "name": "stdout",
     "output_type": "stream",
     "text": [
      "   0\n",
      "a  1\n",
      "b  2\n",
      "f  3\n",
      "<class 'pandas.core.frame.DataFrame'>\n"
     ]
    }
   ],
   "source": [
    "l1 = [1, 2, 3]\n",
    "var = pd.DataFrame(l1, index = [\"a\", \"b\", \"f\"])\n",
    "print(var)\n",
    "print(type(var))"
   ]
  },
  {
   "cell_type": "code",
   "execution_count": 26,
   "id": "8f425baa-1587-43e9-9095-33ef0813a95c",
   "metadata": {},
   "outputs": [
    {
     "name": "stdout",
     "output_type": "stream",
     "text": [
      "   0  1  2  3   4\n",
      "0  1  2  3  4   5\n",
      "1  6  7  8  9  10\n"
     ]
    }
   ],
   "source": [
    "list_1 = [[1, 2, 3, 4, 5], [6, 7, 8, 9, 10]]\n",
    "var2 = pd.DataFrame(list_1)\n",
    "print(var2)"
   ]
  },
  {
   "cell_type": "code",
   "execution_count": 30,
   "id": "ce7a6dcd-0802-4e87-af30-624ef4f7176d",
   "metadata": {},
   "outputs": [
    {
     "name": "stdout",
     "output_type": "stream",
     "text": [
      "    0   1   2   3   4\n",
      "0   1   2   3   4   5\n",
      "1   6   7   8   9  10\n",
      "2  11  12  13  14  15\n",
      "3  16  17  18  19  20\n"
     ]
    }
   ],
   "source": [
    "list_1 = [\n",
    "    [1, 2, 3, 4, 5], \n",
    "    [6, 7, 8, 9, 10],\n",
    "    [11, 12, 13, 14, 15],\n",
    "    [16, 17, 18, 19, 20]\n",
    "]\n",
    "var2 = pd.DataFrame(list_1)\n",
    "print(var2)"
   ]
  },
  {
   "cell_type": "markdown",
   "id": "1d57443c-a910-48d7-b16b-7d4e3138d00c",
   "metadata": {},
   "source": [
    "# Arithmetic Operations on series: "
   ]
  },
  {
   "cell_type": "code",
   "execution_count": null,
   "id": "3c083a83-3a85-4e79-ad65-0dcee68a5063",
   "metadata": {},
   "outputs": [],
   "source": [
    "# Addition(+):\n",
    "s1 = pd.Series([1, 2, 3])\n",
    "s2 = pd.Series([4, 5, 6])\n",
    "result = s1 + s2\n",
    "print(result, \"\\n\")\n",
    "\n",
    "# subtraction (-):\n",
    "result = s1 - s1\n",
    "print(result, \"\\n\")\n",
    "\n",
    "# Multipication(*):\n",
    "result = s1 * s1\n",
    "print(result, \"\\n\")\n",
    "\n",
    "# Division(/):\n",
    "result = s1 / s1\n",
    "print(result, \"\\n\")\n",
    "\n",
    "# Modulus(%): \n",
    "result = s1 % s1\n",
    "print(result, \"\\n\")\n",
    "\n",
    "# Exponentiation(**):\n",
    "result = s1 ** s1\n",
    "print(result, \"\\n\")"
   ]
  },
  {
   "cell_type": "markdown",
   "id": "85af79db-cc13-49b3-8d9a-0e5096a729c2",
   "metadata": {},
   "source": [
    "# Arithmetic Operations on DataFrame"
   ]
  },
  {
   "cell_type": "code",
   "execution_count": 5,
   "id": "3d520620-aad4-4758-ac82-f7d0dfbce403",
   "metadata": {},
   "outputs": [
    {
     "name": "stdout",
     "output_type": "stream",
     "text": [
      "I am DataFrame-1:\n",
      "    A  B\n",
      "0  1  4\n",
      "1  2  5\n",
      "2  3  6\n",
      "\n",
      "I am DataFrame-2:\n",
      "    A   B\n",
      "0  7  10\n",
      "1  8  11\n",
      "2  9  12\n",
      "\n",
      "\n",
      "I am add:\n",
      "      A   B\n",
      "0   8  14\n",
      "1  10  16\n",
      "2  12  18\n",
      "\n",
      "\n",
      "I am subtract:\n",
      "     A  B\n",
      "0 -6 -6\n",
      "1 -6 -6\n",
      "2 -6 -6\n",
      "\n",
      "\n",
      "I am multiply:\n",
      "      A   B\n",
      "0   7  40\n",
      "1  16  55\n",
      "2  27  72\n",
      "\n",
      "\n",
      "I am divide:\n",
      "            A         B\n",
      "0  0.142857  0.400000\n",
      "1  0.250000  0.454545\n",
      "2  0.333333  0.500000\n",
      "\n",
      "\n",
      "I am modulus:\n",
      "     A  B\n",
      "0  1  4\n",
      "1  2  5\n",
      "2  3  6\n",
      "\n",
      "\n",
      "I am exponentiation:\n",
      "        A           B\n",
      "0      1     1048576\n",
      "1    256    48828125\n",
      "2  19683  2176782336\n",
      "\n",
      "\n",
      "   A  B\n",
      "0  1  5\n",
      "1  3  6\n",
      "2  5  7\n",
      "3  4  8\n",
      "   A  B\n",
      "0  1  5\n",
      "1  3  6\n",
      "2  5  7\n",
      "3  4  8\n",
      "\n",
      "   A  B\n",
      "1  3  6\n",
      "2  5  7\n",
      "3  4  8\n",
      "   A  B\n",
      "1  3  6\n",
      "2  5  7\n",
      "3  4  8\n",
      "   A  B\n",
      "2  5  7\n",
      "3  4  8\n",
      "   A\n",
      "2  5\n",
      "3  4\n",
      "Empty DataFrame\n",
      "Columns: []\n",
      "Index: [2, 3]\n"
     ]
    }
   ],
   "source": [
    "import pandas as pd\n",
    "df1 = pd.DataFrame({\n",
    "    'A': [1, 2, 3],\n",
    "    'B': [4, 5, 6]\n",
    "})\n",
    "\n",
    "df2 = pd.DataFrame({\n",
    "    'A': [7, 8, 9],\n",
    "    'B': [10, 11, 12]\n",
    "})\n",
    "\n",
    "print(f\"I am DataFrame-1:\\n {df1}\\n\")\n",
    "print(f\"I am DataFrame-2:\\n {df2}\\n\\n\")\n",
    "add = df1 + df2\n",
    "subtract = df1 - df2\n",
    "multiply = df1 * df2\n",
    "divide = df1 / df2\n",
    "modulus = df1 % df2\n",
    "exponentiation = df1 ** df2\n",
    "print(f\"I am add:\\n  {add}\\n\\n\")\n",
    "print(f\"I am subtract:\\n  {subtract}\\n\\n\")\n",
    "print(f\"I am multiply:\\n  {multiply}\\n\\n\")\n",
    "print(f\"I am divide:\\n  {divide}\\n\\n\")\n",
    "print(f\"I am modulus:\\n  {modulus}\\n\\n\")\n",
    "print(f\"I am exponentiation:\\n {exponentiation}\\n\\n\")\n",
    "\n",
    "# Delete in Pandas:\n",
    "\n",
    "import pandas as pd\n",
    "df = pd.DataFrame({\n",
    "    'A': [1, 3, 5, 4],\n",
    "    'B': [5, 6, 7, 8]\n",
    "})\n",
    "print(df)\n",
    "# print()\n",
    "# df = df.drop(index=1)\n",
    "# print(df) # This will drop the row at index = 1 \n",
    "\n",
    "# Deleting Row based on condition\n",
    "\n",
    "# Delete rows where column A is less than 3\n",
    "print(df)\n",
    "print()\n",
    "df = df[df['A'] >= 3]\n",
    "print(df)\n",
    "\n",
    "# using iloc[] to delete by Position \n",
    "\n",
    "# deletign the fort row (index 0)\n",
    "print(df)\n",
    "df = df.drop(df.index[0])\n",
    "print(df)\n",
    "\n",
    "# deleting column: \n",
    "\n",
    "df = df.drop(columns = 'B')\n",
    "print(df)\n",
    "\n",
    "# using del statement\n",
    "\n",
    "del df['A']\n",
    "print(df)\n",
    "\n"
   ]
  },
  {
   "cell_type": "markdown",
   "id": "90c9566a-d9bb-4fe1-8048-3b247aed4b4c",
   "metadata": {},
   "source": [
    "# Inserting Data in Pandas"
   ]
  },
  {
   "cell_type": "markdown",
   "id": "6542ffc7-5b2f-4f36-855f-6ed34ba567cb",
   "metadata": {},
   "source": [
    "* Using assign method"
   ]
  },
  {
   "cell_type": "code",
   "execution_count": 6,
   "id": "79aad686-bb51-47de-ab0b-d24d706d42dd",
   "metadata": {},
   "outputs": [
    {
     "name": "stdout",
     "output_type": "stream",
     "text": [
      "   a  c  b\n",
      "2  1  7  9\n",
      "3  2  8  8\n"
     ]
    }
   ],
   "source": [
    "import pandas as pd\n",
    "df = df.assign(a = [1, 2], c = [7, 8], b = [9, 8])\n",
    "print(df)"
   ]
  },
  {
   "cell_type": "markdown",
   "id": "9d753f5b-9326-48ff-9265-7e8f7ec8e97b",
   "metadata": {},
   "source": [
    "# Direct Assignment"
   ]
  },
  {
   "cell_type": "code",
   "execution_count": 7,
   "id": "359c0d00-42cf-4870-a467-0809d6a3a112",
   "metadata": {},
   "outputs": [
    {
     "name": "stdout",
     "output_type": "stream",
     "text": [
      "   a  c  b   D\n",
      "2  1  7  9  10\n",
      "3  2  8  8  11\n"
     ]
    }
   ],
   "source": [
    "df['D'] = [10, 11]\n",
    "print(df)"
   ]
  },
  {
   "cell_type": "markdown",
   "id": "f1c0425b-d76e-4265-acb2-75abbfaf71fe",
   "metadata": {},
   "source": [
    "* using insert method"
   ]
  },
  {
   "cell_type": "code",
   "execution_count": 8,
   "id": "6a27e36c-6e92-4bc2-b6cd-0fc0bcd9b372",
   "metadata": {},
   "outputs": [
    {
     "data": {
      "text/html": [
       "<div>\n",
       "<style scoped>\n",
       "    .dataframe tbody tr th:only-of-type {\n",
       "        vertical-align: middle;\n",
       "    }\n",
       "\n",
       "    .dataframe tbody tr th {\n",
       "        vertical-align: top;\n",
       "    }\n",
       "\n",
       "    .dataframe thead th {\n",
       "        text-align: right;\n",
       "    }\n",
       "</style>\n",
       "<table border=\"1\" class=\"dataframe\">\n",
       "  <thead>\n",
       "    <tr style=\"text-align: right;\">\n",
       "      <th></th>\n",
       "      <th>a</th>\n",
       "      <th>newcol</th>\n",
       "      <th>c</th>\n",
       "      <th>b</th>\n",
       "      <th>D</th>\n",
       "    </tr>\n",
       "  </thead>\n",
       "  <tbody>\n",
       "    <tr>\n",
       "      <th>2</th>\n",
       "      <td>1</td>\n",
       "      <td>99</td>\n",
       "      <td>7</td>\n",
       "      <td>9</td>\n",
       "      <td>10</td>\n",
       "    </tr>\n",
       "    <tr>\n",
       "      <th>3</th>\n",
       "      <td>2</td>\n",
       "      <td>99</td>\n",
       "      <td>8</td>\n",
       "      <td>8</td>\n",
       "      <td>11</td>\n",
       "    </tr>\n",
       "  </tbody>\n",
       "</table>\n",
       "</div>"
      ],
      "text/plain": [
       "   a  newcol  c  b   D\n",
       "2  1      99  7  9  10\n",
       "3  2      99  8  8  11"
      ]
     },
     "execution_count": 8,
     "metadata": {},
     "output_type": "execute_result"
    }
   ],
   "source": [
    "df.insert(1, \"newcol\", [99, 99])\n",
    "df"
   ]
  },
  {
   "cell_type": "code",
   "execution_count": 9,
   "id": "405614dd-35cc-4fc9-8c95-794aec657375",
   "metadata": {},
   "outputs": [
    {
     "data": {
      "text/html": [
       "<div>\n",
       "<style scoped>\n",
       "    .dataframe tbody tr th:only-of-type {\n",
       "        vertical-align: middle;\n",
       "    }\n",
       "\n",
       "    .dataframe tbody tr th {\n",
       "        vertical-align: top;\n",
       "    }\n",
       "\n",
       "    .dataframe thead th {\n",
       "        text-align: right;\n",
       "    }\n",
       "</style>\n",
       "<table border=\"1\" class=\"dataframe\">\n",
       "  <thead>\n",
       "    <tr style=\"text-align: right;\">\n",
       "      <th></th>\n",
       "      <th>a</th>\n",
       "      <th>name</th>\n",
       "      <th>newcol</th>\n",
       "      <th>c</th>\n",
       "      <th>b</th>\n",
       "      <th>D</th>\n",
       "    </tr>\n",
       "  </thead>\n",
       "  <tbody>\n",
       "    <tr>\n",
       "      <th>2</th>\n",
       "      <td>1</td>\n",
       "      <td>Beast</td>\n",
       "      <td>99</td>\n",
       "      <td>7</td>\n",
       "      <td>9</td>\n",
       "      <td>10</td>\n",
       "    </tr>\n",
       "    <tr>\n",
       "      <th>3</th>\n",
       "      <td>2</td>\n",
       "      <td>DEvil</td>\n",
       "      <td>99</td>\n",
       "      <td>8</td>\n",
       "      <td>8</td>\n",
       "      <td>11</td>\n",
       "    </tr>\n",
       "  </tbody>\n",
       "</table>\n",
       "</div>"
      ],
      "text/plain": [
       "   a   name  newcol  c  b   D\n",
       "2  1  Beast      99  7  9  10\n",
       "3  2  DEvil      99  8  8  11"
      ]
     },
     "execution_count": 9,
     "metadata": {},
     "output_type": "execute_result"
    }
   ],
   "source": [
    "df.insert(1, \"name\", ['Beast', 'DEvil'])\n",
    "df\n",
    "\n",
    "# Explaination\n",
    "# here \n",
    "# 1 = index where we want to insert the data \n",
    "# \"name\" = teh name of the column \n",
    "# ['Beast', 'Devil'] = the data of the column \"name\""
   ]
  },
  {
   "cell_type": "markdown",
   "id": "d6fcc2af-a154-4e54-9d26-076c97acf0f0",
   "metadata": {},
   "source": [
    "* using loc[] method"
   ]
  },
  {
   "cell_type": "code",
   "execution_count": 12,
   "id": "90f340e2-ab94-4da8-a7ac-808564b00beb",
   "metadata": {},
   "outputs": [
    {
     "ename": "ValueError",
     "evalue": "Must have equal len keys and value when setting with an iterable",
     "output_type": "error",
     "traceback": [
      "\u001b[1;31m---------------------------------------------------------------------------\u001b[0m",
      "\u001b[1;31mValueError\u001b[0m                                Traceback (most recent call last)",
      "Cell \u001b[1;32mIn[12], line 1\u001b[0m\n\u001b[1;32m----> 1\u001b[0m \u001b[43mdf\u001b[49m\u001b[38;5;241;43m.\u001b[39;49m\u001b[43mloc\u001b[49m\u001b[43m[\u001b[49m\u001b[38;5;28;43mlen\u001b[39;49m\u001b[43m(\u001b[49m\u001b[43mdf\u001b[49m\u001b[43m)\u001b[49m\u001b[43m]\u001b[49m \u001b[38;5;241m=\u001b[39m [\u001b[38;5;124m\"\u001b[39m\u001b[38;5;124mA1\u001b[39m\u001b[38;5;124m\"\u001b[39m, \u001b[38;5;124m\"\u001b[39m\u001b[38;5;124mA2\u001b[39m\u001b[38;5;124m\"\u001b[39m, \u001b[38;5;124m\"\u001b[39m\u001b[38;5;124mA3\u001b[39m\u001b[38;5;124m\"\u001b[39m, \u001b[38;5;124m\"\u001b[39m\u001b[38;5;124mA4\u001b[39m\u001b[38;5;124m\"\u001b[39m, \u001b[38;5;124m\"\u001b[39m\u001b[38;5;124mA5\u001b[39m\u001b[38;5;124m\"\u001b[39m]\n",
      "File \u001b[1;32m~\\AppData\\Local\\Programs\\Python\\Python312\\Lib\\site-packages\\pandas\\core\\indexing.py:911\u001b[0m, in \u001b[0;36m_LocationIndexer.__setitem__\u001b[1;34m(self, key, value)\u001b[0m\n\u001b[0;32m    908\u001b[0m \u001b[38;5;28mself\u001b[39m\u001b[38;5;241m.\u001b[39m_has_valid_setitem_indexer(key)\n\u001b[0;32m    910\u001b[0m iloc \u001b[38;5;241m=\u001b[39m \u001b[38;5;28mself\u001b[39m \u001b[38;5;28;01mif\u001b[39;00m \u001b[38;5;28mself\u001b[39m\u001b[38;5;241m.\u001b[39mname \u001b[38;5;241m==\u001b[39m \u001b[38;5;124m\"\u001b[39m\u001b[38;5;124miloc\u001b[39m\u001b[38;5;124m\"\u001b[39m \u001b[38;5;28;01melse\u001b[39;00m \u001b[38;5;28mself\u001b[39m\u001b[38;5;241m.\u001b[39mobj\u001b[38;5;241m.\u001b[39miloc\n\u001b[1;32m--> 911\u001b[0m \u001b[43miloc\u001b[49m\u001b[38;5;241;43m.\u001b[39;49m\u001b[43m_setitem_with_indexer\u001b[49m\u001b[43m(\u001b[49m\u001b[43mindexer\u001b[49m\u001b[43m,\u001b[49m\u001b[43m \u001b[49m\u001b[43mvalue\u001b[49m\u001b[43m,\u001b[49m\u001b[43m \u001b[49m\u001b[38;5;28;43mself\u001b[39;49m\u001b[38;5;241;43m.\u001b[39;49m\u001b[43mname\u001b[49m\u001b[43m)\u001b[49m\n",
      "File \u001b[1;32m~\\AppData\\Local\\Programs\\Python\\Python312\\Lib\\site-packages\\pandas\\core\\indexing.py:1942\u001b[0m, in \u001b[0;36m_iLocIndexer._setitem_with_indexer\u001b[1;34m(self, indexer, value, name)\u001b[0m\n\u001b[0;32m   1939\u001b[0m \u001b[38;5;66;03m# align and set the values\u001b[39;00m\n\u001b[0;32m   1940\u001b[0m \u001b[38;5;28;01mif\u001b[39;00m take_split_path:\n\u001b[0;32m   1941\u001b[0m     \u001b[38;5;66;03m# We have to operate column-wise\u001b[39;00m\n\u001b[1;32m-> 1942\u001b[0m     \u001b[38;5;28;43mself\u001b[39;49m\u001b[38;5;241;43m.\u001b[39;49m\u001b[43m_setitem_with_indexer_split_path\u001b[49m\u001b[43m(\u001b[49m\u001b[43mindexer\u001b[49m\u001b[43m,\u001b[49m\u001b[43m \u001b[49m\u001b[43mvalue\u001b[49m\u001b[43m,\u001b[49m\u001b[43m \u001b[49m\u001b[43mname\u001b[49m\u001b[43m)\u001b[49m\n\u001b[0;32m   1943\u001b[0m \u001b[38;5;28;01melse\u001b[39;00m:\n\u001b[0;32m   1944\u001b[0m     \u001b[38;5;28mself\u001b[39m\u001b[38;5;241m.\u001b[39m_setitem_single_block(indexer, value, name)\n",
      "File \u001b[1;32m~\\AppData\\Local\\Programs\\Python\\Python312\\Lib\\site-packages\\pandas\\core\\indexing.py:2027\u001b[0m, in \u001b[0;36m_iLocIndexer._setitem_with_indexer_split_path\u001b[1;34m(self, indexer, value, name)\u001b[0m\n\u001b[0;32m   2024\u001b[0m         \u001b[38;5;28mself\u001b[39m\u001b[38;5;241m.\u001b[39m_setitem_single_column(ilocs[\u001b[38;5;241m0\u001b[39m], value, pi)\n\u001b[0;32m   2026\u001b[0m     \u001b[38;5;28;01melse\u001b[39;00m:\n\u001b[1;32m-> 2027\u001b[0m         \u001b[38;5;28;01mraise\u001b[39;00m \u001b[38;5;167;01mValueError\u001b[39;00m(\n\u001b[0;32m   2028\u001b[0m             \u001b[38;5;124m\"\u001b[39m\u001b[38;5;124mMust have equal len keys and value \u001b[39m\u001b[38;5;124m\"\u001b[39m\n\u001b[0;32m   2029\u001b[0m             \u001b[38;5;124m\"\u001b[39m\u001b[38;5;124mwhen setting with an iterable\u001b[39m\u001b[38;5;124m\"\u001b[39m\n\u001b[0;32m   2030\u001b[0m         )\n\u001b[0;32m   2032\u001b[0m \u001b[38;5;28;01melse\u001b[39;00m:\n\u001b[0;32m   2033\u001b[0m     \u001b[38;5;66;03m# scalar value\u001b[39;00m\n\u001b[0;32m   2034\u001b[0m     \u001b[38;5;28;01mfor\u001b[39;00m loc \u001b[38;5;129;01min\u001b[39;00m ilocs:\n",
      "\u001b[1;31mValueError\u001b[0m: Must have equal len keys and value when setting with an iterable"
     ]
    }
   ],
   "source": [
    "df.loc[len(df)] = [\"A1\", \"A2\", \"A3\", \"A4\", \"A5\"]"
   ]
  },
  {
   "cell_type": "markdown",
   "id": "784f8932-e9d5-455c-a915-0922de0bb697",
   "metadata": {},
   "source": [
    "* using append"
   ]
  },
  {
   "cell_type": "code",
   "execution_count": null,
   "id": "d4adcdb0-13d8-4e3c-a2fd-c87bdba2e589",
   "metadata": {},
   "outputs": [],
   "source": [
    "new_row = pd.DataFrame({\n",
    "    'A':[5], \n",
    "    'B':[6],\n",
    "    'C':[7],\n",
    "    'D':[14]\n",
    "})\n",
    "\n",
    "new_row\n",
    "\n",
    "df = df.append(new_row, ignore_index = True)"
   ]
  },
  {
   "cell_type": "markdown",
   "id": "1d3a71dc-38e5-4016-a617-c74e95162a3f",
   "metadata": {},
   "source": [
    "# Reading CSV file"
   ]
  },
  {
   "cell_type": "code",
   "execution_count": 47,
   "id": "87ac923c-7381-44da-b0d8-5cf6703df71a",
   "metadata": {},
   "outputs": [],
   "source": [
    "# import pandas as pd\n",
    "# df = pd.read_csv('path/to/your/file.csv')\n",
    "# print(df.head())"
   ]
  },
  {
   "cell_type": "markdown",
   "id": "ac9520f7-a2f2-4e0d-8093-829e82427e53",
   "metadata": {},
   "source": [
    "# writing to CSV file"
   ]
  },
  {
   "cell_type": "code",
   "execution_count": 1,
   "id": "02b9b995-0613-43e7-bee9-0329a6704610",
   "metadata": {},
   "outputs": [
    {
     "data": {
      "text/html": [
       "<div>\n",
       "<style scoped>\n",
       "    .dataframe tbody tr th:only-of-type {\n",
       "        vertical-align: middle;\n",
       "    }\n",
       "\n",
       "    .dataframe tbody tr th {\n",
       "        vertical-align: top;\n",
       "    }\n",
       "\n",
       "    .dataframe thead th {\n",
       "        text-align: right;\n",
       "    }\n",
       "</style>\n",
       "<table border=\"1\" class=\"dataframe\">\n",
       "  <thead>\n",
       "    <tr style=\"text-align: right;\">\n",
       "      <th></th>\n",
       "      <th>Name</th>\n",
       "      <th>Rank</th>\n",
       "      <th>Score_board</th>\n",
       "    </tr>\n",
       "  </thead>\n",
       "  <tbody>\n",
       "    <tr>\n",
       "      <th>0</th>\n",
       "      <td>Beast</td>\n",
       "      <td>Heroic</td>\n",
       "      <td>1</td>\n",
       "    </tr>\n",
       "    <tr>\n",
       "      <th>1</th>\n",
       "      <td>DEvil</td>\n",
       "      <td>Grandmaster</td>\n",
       "      <td>2</td>\n",
       "    </tr>\n",
       "    <tr>\n",
       "      <th>2</th>\n",
       "      <td>Viper</td>\n",
       "      <td>International Master</td>\n",
       "      <td>3</td>\n",
       "    </tr>\n",
       "  </tbody>\n",
       "</table>\n",
       "</div>"
      ],
      "text/plain": [
       "    Name                  Rank  Score_board\n",
       "0  Beast                Heroic            1\n",
       "1  DEvil           Grandmaster            2\n",
       "2  Viper  International Master            3"
      ]
     },
     "execution_count": 1,
     "metadata": {},
     "output_type": "execute_result"
    }
   ],
   "source": [
    "import pandas as pd\n",
    "data = {\n",
    "    'Name': [\"Beast\", \"DEvil\", \"Viper\"],\n",
    "    'Rank': [\"Heroic\", \"Grandmaster\", \"International Master\"],\n",
    "    'Score_board': [1, 2, 3]\n",
    "}\n",
    "df = pd.DataFrame(data)\n",
    "df.to_csv(\"Beast.csv\", index = False)\n",
    "df"
   ]
  }
 ],
 "metadata": {
  "kernelspec": {
   "display_name": "Python 3 (ipykernel)",
   "language": "python",
   "name": "python3"
  },
  "language_info": {
   "codemirror_mode": {
    "name": "ipython",
    "version": 3
   },
   "file_extension": ".py",
   "mimetype": "text/x-python",
   "name": "python",
   "nbconvert_exporter": "python",
   "pygments_lexer": "ipython3",
   "version": "3.12.3"
  }
 },
 "nbformat": 4,
 "nbformat_minor": 5
}
